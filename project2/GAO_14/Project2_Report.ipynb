{
 "cells": [
  {
   "cell_type": "code",
   "execution_count": 6,
   "metadata": {},
   "outputs": [
    {
     "name": "stdout",
     "output_type": "stream",
     "text": [
      "dropped:  Parch\n",
      "dropped:  Fare\n",
      "dropped:  Embarked_Q\n",
      "dropped:  Embarked_S\n",
      "dropped:  isChild\n",
      "dropped:  SibSp\n",
      "dropped:  Pclass_2\n",
      "dropped:  Age\n",
      "dropped:  Pclass_3\n"
     ]
    },
    {
     "data": {
      "text/plain": [
       "[['Sex', 'Age', 'SibSp', 'isChild', 'Pclass_3', 'Pclass_2'],\n",
       " 0.14266454544592372,\n",
       " 0.8047752808988764]"
      ]
     },
     "execution_count": 6,
     "metadata": {},
     "output_type": "execute_result"
    }
   ],
   "source": [
    "features = ['Sex', 'Age', 'SibSp', 'Parch', 'Fare', 'isChild',\n",
    "    'Embarked_Q', 'Embarked_S', 'Pclass_3', 'Pclass_2']\n",
    "# get rid of Embarked_C, Pclass_1 to avoid the dummy variable trap\n",
    "backward_model_selection(\n",
    "features\n",
    ", train_p)"
   ]
  },
  {
   "cell_type": "markdown",
   "metadata": {},
   "source": [
    "So we see the predictors that may not be significant are dropped as expected"
   ]
  },
  {
   "cell_type": "code",
   "execution_count": 7,
   "metadata": {},
   "outputs": [
    {
     "name": "stdout",
     "output_type": "stream",
     "text": [
      "(712, 13)\n",
      "30.27273170731707 30.27236220472441\n",
      "(418, 12)\n",
      "Training\n",
      "mse  0.18679775280898878\n",
      "accuracy 0.8132022471910112\n",
      "R2 0.2245151991614256\n"
     ]
    }
   ],
   "source": [
    "train = pd.read_csv('train.csv')\n",
    "train_p = preprocess(train, 'train')\n",
    "train_data = train_p\n",
    "test = pd.read_csv('test.csv')\n",
    "test_p = preprocess(test, 'test')\n",
    "test_data = test_p\n",
    "\n",
    "theformula = 'Survived~Sex+Age+SibSp+isChild+Pclass_2+Pclass_3'\n",
    "model = sm.Logit.from_formula(formula=theformula,data=train_data)\n",
    "fit = model.fit_regularized(disp=0, maxiter=1000)\n",
    "ypred = [1 if el >= 0.5 else 0 for el in fit.predict(train_data)]\n",
    "ytest = train_data['Survived']\n",
    "print(\"Training\")\n",
    "measureResult(ypred, ytest, True)\n",
    "\n",
    "ypred = [1 if el >= 0.5 else 0 for el in fit.predict(test_data)]\n",
    "writecsv(ypred, test, 'LogiticRegression_pp1.csv')"
   ]
  },
  {
   "cell_type": "markdown",
   "metadata": {},
   "source": [
    "##### Random Forest"
   ]
  },
  {
   "cell_type": "markdown",
   "metadata": {},
   "source": [
    "1. build multiple randomforest model using different number of estimators and check which one is better\n",
    "2. choose a good number of estimator and make predictions\n",
    "\n",
    "accuracy from Kaggle: 0.74641"
   ]
  },
  {
   "cell_type": "code",
   "execution_count": 8,
   "metadata": {},
   "outputs": [],
   "source": [
    "# build a random forest model\n",
    "def RandomForestModel (train_X, train_y, num_estimator):\n",
    "    randomforest = RandomForestClassifier(n_estimators=num_estimator)\n",
    "    randomforest.fit(train_X, train_y)\n",
    "    return randomforest"
   ]
  },
  {
   "cell_type": "code",
   "execution_count": 9,
   "metadata": {},
   "outputs": [
    {
     "name": "stdout",
     "output_type": "stream",
     "text": [
      "(712, 13)\n"
     ]
    }
   ],
   "source": [
    "train = pd.read_csv('train.csv')\n",
    "train = preprocess(train, 'train')\n",
    "train_X, train_y = splitXy(train)\n",
    "indexes = []\n",
    "mses = [] # mse from kfold cross validation\n",
    "accs = [] # accuracy from kfold cross validation\n",
    "r2s = [] # r2 from kfold cross validation\n",
    "allmses = [] # mse on all training data\n",
    "allaccs = [] # accuracy on all training data\n",
    "allr2s = [] # r2 on all training data\n",
    "for i in range(2, 60):\n",
    "    kfold = KFold(n=len(train_X), n_folds=10)\n",
    "    tempmses = []\n",
    "    tempaccs = []\n",
    "    tempr2s = []\n",
    "    for train_index, test_index in kfold:\n",
    "        train_X_train, train_y_train = train_X.values[train_index], train_y.values[train_index]\n",
    "        train_X_test, train_y_test = train_X.values[test_index], train_y.values[test_index]\n",
    "        random_forest = RandomForestModel(train_X_train, train_y_train, i)\n",
    "        y_pred = random_forest.predict(train_X_test)\n",
    "        mse, acc, r2 = measureResult(y_pred, train_y_test, False)\n",
    "        tempmses.append(mse)\n",
    "        tempaccs.append(acc)\n",
    "        tempr2s.append(r2)\n",
    "    mses.append(np.mean(tempmses))\n",
    "    accs.append(np.mean(tempaccs))\n",
    "    r2s.append(np.mean(tempr2s))\n",
    "    indexes.append(i)\n",
    "    random_forest = RandomForestModel(train_X, train_y, i)\n",
    "    y_pred = random_forest.predict(train_X)\n",
    "    mse, acc, r2 = measureResult(y_pred, train_y, False)\n",
    "    allmses.append(mse)\n",
    "    allaccs.append(acc)\n",
    "    allr2s.append(r2)"
   ]
  },
  {
   "cell_type": "code",
   "execution_count": 10,
   "metadata": {},
   "outputs": [
    {
     "data": {
      "image/png": "[encoded data removed]",
      "text/plain": [
       "<matplotlib.figure.Figure at 0x1058daf28>"
      ]
     },
     "metadata": {},
     "output_type": "display_data"
    },
    {
     "data": {
      "image/png": "[encoded data removed]",
      "text/plain": [
       "<matplotlib.figure.Figure at 0x1058daeb8>"
      ]
     },
     "metadata": {},
     "output_type": "display_data"
    },
    {
     "data": {
      "image/png": "[encoded data removed]",
      "text/plain": [
       "<matplotlib.figure.Figure at 0x10bd15f28>"
      ]
     },
     "metadata": {},
     "output_type": "display_data"
    }
   ],
   "source": [
    "plt.xlabel('Number of Estimator in RandomForest')\n",
    "plt.ylabel('MSE')\n",
    "a,=plt.plot(indexes, mses, color='red')\n",
    "b,=plt.plot(indexes, allmses, color='blue')\n",
    "plt.legend([a, b], ['Mean of 10-Kfold', 'All training data'], bbox_to_anchor=(1.5, 1))\n",
    "plt.show()\n",
    "plt.xlabel('Number of Estimator in RandomForest')\n",
    "plt.ylabel('Accuracy')\n",
    "a,=plt.plot(indexes, accs, color='red')\n",
    "b,=plt.plot(indexes, allaccs, color='blue')\n",
    "plt.legend([a, b], ['Mean of 10-Kfold', 'All training data'], bbox_to_anchor=(1.5, 1))\n",
    "plt.show()\n",
    "plt.xlabel('Number of Estimator in RandomForest')\n",
    "plt.ylabel('R2')\n",
    "a,=plt.plot(indexes, r2s, color='red')\n",
    "b,=plt.plot(indexes, allr2s, color='blue')\n",
    "plt.legend([a, b], ['Mean of 10-Kfold', 'All training data'], bbox_to_anchor=(1.5, 1))\n",
    "plt.show()"
   ]
  },
  {
   "cell_type": "code",
   "execution_count": 11,
   "metadata": {},
   "outputs": [
    {
     "name": "stdout",
     "output_type": "stream",
     "text": [
      "min mse index 56\n",
      "max accuracy index 56\n",
      "max r2 index 56\n"
     ]
    }
   ],
   "source": [
    "print('min mse index',mses.index(min(mses)))\n",
    "print('max accuracy index', accs.index(max(accs)))\n",
    "print('max r2 index', r2s.index(max(r2s)))"
   ]
  },
  {
   "cell_type": "code",
   "execution_count": 12,
   "metadata": {},
   "outputs": [
    {
     "name": "stdout",
     "output_type": "stream",
     "text": [
      "Training\n",
      "mse  0.014044943820224719\n",
      "accuracy 0.9859550561797753\n",
      "R2 0.9416928721174004\n",
      "(418, 12)\n"
     ]
    }
   ],
   "source": [
    "random_forest = RandomForestModel(train_X, train_y, 38)\n",
    "predy = random_forest.predict(train_X)\n",
    "print(\"Training\")\n",
    "measureResult(predy, train_y, True)\n",
    "test = pd.read_csv('test.csv')\n",
    "test_X = preprocess(test, 'test')\n",
    "y_pred = random_forest.predict(test_X)\n",
    "writecsv(y_pred, test, 'RandomForest_pp1.csv')"
   ]
  },
  {
   "cell_type": "markdown",
   "metadata": {},
   "source": [
    "###### Importance of the predictors"
   ]
  },
  {
   "cell_type": "code",
   "execution_count": 13,
   "metadata": {},
   "outputs": [
    {
     "name": "stdout",
     "output_type": "stream",
     "text": [
      "12 12\n"
     ]
    },
    {
     "data": {
      "image/png": "[encoded data removed]",
      "text/plain": [
       "<matplotlib.figure.Figure at 0x1058ba908>"
      ]
     },
     "metadata": {},
     "output_type": "display_data"
    }
   ],
   "source": [
    "features_names = train_X.columns\n",
    "importances = random_forest.feature_importances_\n",
    "print(len(importances), len(features_names))\n",
    "indices = np.argsort(importances)\n",
    "plt.figure(figsize=(20,10))\n",
    "plt.title('Feature Importances')\n",
    "plt.barh(range(len(indices)), importances[indices], color='b', align='center')\n",
    "plt.yticks(range(len(indices)), features_names[indices])\n",
    "plt.xlabel('Relative Importance')\n",
    "plt.show()"
   ]
  },
  {
   "cell_type": "markdown",
   "metadata": {},
   "source": [
    "##### Dense Neural Network Using Tensorflow"
   ]
  },
  {
   "cell_type": "markdown",
   "metadata": {},
   "source": [
    "a dense neural network is defined and trained using tensorflow\n",
    "\n",
    "the dense neural network:\n",
    "features -> fully connected 128 -> fully connected 64 -> dropout with probability 0.2 -> fully connected 32 -> fully connected 2 -> choose the index of the higher one as result\n",
    "\n",
    "it is trained with learning rate 1e-3, epoch 1000, batch_size 100\n",
    "\n",
    "accuracy from Kaggle: 0.75119"
   ]
  },
  {
   "cell_type": "code",
   "execution_count": 14,
   "metadata": {},
   "outputs": [
    {
     "name": "stdout",
     "output_type": "stream",
     "text": [
      "(712, 13)\n",
      "(418, 12)\n",
      "Index(['Sex', 'Age', 'SibSp', 'Parch', 'Fare', 'isChild', 'Embarked_C',\n",
      "       'Embarked_Q', 'Embarked_S', 'Pclass_1', 'Pclass_2', 'Pclass_3'],\n",
      "      dtype='object')\n",
      "there are na values:  False\n",
      "(569, 12)\n",
      "(418, 12)\n"
     ]
    }
   ],
   "source": [
    "# prepare training data\n",
    "train=pd.read_csv('train.csv')\n",
    "p_train_all=preprocess(train, 'train')\n",
    "p_train, p_test=train_test_split(p_train_all, test_size=0.2)\n",
    "p_train_X, p_train_y = splitXy(p_train)\n",
    "p_test_X, p_test_y = splitXy(p_test)\n",
    "\n",
    "test=pd.read_csv('test.csv')\n",
    "p_test=preprocess(test, 'test')\n",
    "print(p_train_X.columns)\n",
    "print('there are na values: ', p_train_all.isnull().values.any())\n",
    "print(p_train_X.shape)\n",
    "print(p_test.shape)"
   ]
  },
  {
   "cell_type": "code",
   "execution_count": 15,
   "metadata": {},
   "outputs": [],
   "source": [
    "# define network\n",
    "feature_num = p_train_X.shape[1]\n",
    "X = tf.placeholder(dtype=tf.float32, shape=[None, feature_num])\n",
    "Y = tf.placeholder(dtype=tf.int32, shape=[None])\n",
    "\n",
    "logits = X\n",
    "logits = tf.contrib.layers.fully_connected(logits, 128, tf.nn.relu)\n",
    "logits = tf.contrib.layers.fully_connected(logits, 64, tf.nn.relu)\n",
    "logits = tf.nn.dropout(logits, keep_prob=0.2)\n",
    "logits = tf.contrib.layers.fully_connected(logits, 32, tf.nn.relu)\n",
    "# logits = tf.contrib.layers.batch_norm(logits)\n",
    "logits = tf.contrib.layers.fully_connected(logits, 2, tf.nn.relu)\n",
    "probability = tf.nn.softmax(logits)\n",
    "out = tf.argmax(input=probability, axis=1)\n",
    "\n",
    "onehot_labels = tf.one_hot(indices=tf.cast(Y, tf.int32), depth=2)\n",
    "loss = tf.reduce_sum(tf.nn.softmax_cross_entropy_with_logits_v2(labels=onehot_labels, logits=probability))"
   ]
  },
  {
   "cell_type": "code",
   "execution_count": 16,
   "metadata": {},
   "outputs": [],
   "source": [
    "# function used to train the model\n",
    "def train_model (lr, epochs, batch_size, Logging, X_train, y_train, X_test, y_test, predict_X, print_every=50):\n",
    "    opt = tf.train.AdamOptimizer(learning_rate=lr).minimize(loss)\n",
    "    losses = []\n",
    "    with tf.Session() as net:\n",
    "        net.run(tf.global_variables_initializer())\n",
    "        for e in range(epochs):\n",
    "            shuffle_indices = np.random.permutation(len(X_train))\n",
    "            X_train = X_train[shuffle_indices]\n",
    "            y_train = y_train[shuffle_indices]\n",
    "            for i in range(0, len(y_train) // batch_size):\n",
    "                start = i * batch_size\n",
    "                batch_x = X_train[start:start + batch_size]\n",
    "                batch_y = y_train[start:start + batch_size]\n",
    "                net.run(opt, feed_dict={X: batch_x, Y: batch_y})\n",
    "\n",
    "            if (e % print_every == 0) and Logging:\n",
    "                [loss_v, out_v] = net.run([loss, out], feed_dict={X: X_test, Y: y_test})\n",
    "                losses.append(loss_v)\n",
    "                mse, acc, r2 = measureResult(out_v, y_test, False)\n",
    "                print('epoches ' + str(e) + ': ', loss_v, mse, acc, r2)\n",
    "\n",
    "        print('Training:')\n",
    "        [loss_v, out_v] = net.run([loss, out], feed_dict={X: X_train, Y: y_train})\n",
    "        measureResult(out_v, y_train, True)\n",
    "        \n",
    "        predict_out_v = net.run(out, feed_dict={X: predict_X})\n",
    "        \n",
    "        net.close()\n",
    "        \n",
    "        plt.xlabel('Progress')\n",
    "        plt.ylabel('Loss')\n",
    "        plt.plot(losses)\n",
    "        plt.show()\n",
    "\n",
    "        return predict_out_v"
   ]
  },
  {
   "cell_type": "code",
   "execution_count": 17,
   "metadata": {},
   "outputs": [
    {
     "name": "stdout",
     "output_type": "stream",
     "text": [
      "epoches 0:  104.01208 0.46853146853146854 0.5314685314685315 -0.9795454545454549\n",
      "epoches 20:  89.02574 0.32867132867132864 0.6713286713286714 -0.38863636363636367\n",
      "epoches 40:  88.08652 0.36363636363636365 0.6363636363636364 -0.5363636363636366\n",
      "epoches 60:  87.231865 0.3356643356643357 0.6643356643356644 -0.41818181818181843\n",
      "epoches 80:  88.00969 0.34265734265734266 0.6573426573426573 -0.447727272727273\n",
      "epoches 100:  82.39212 0.3006993006993007 0.6993006993006993 -0.2704545454545455\n",
      "epoches 120:  85.15902 0.3006993006993007 0.6993006993006993 -0.2704545454545455\n",
      "epoches 140:  78.05819 0.25874125874125875 0.7412587412587412 -0.09318181818181848\n",
      "epoches 160:  77.86827 0.25874125874125875 0.7412587412587412 -0.09318181818181848\n",
      "epoches 180:  78.97526 0.2517482517482518 0.7482517482517482 -0.06363636363636394\n",
      "epoches 200:  75.83832 0.22377622377622378 0.7762237762237763 0.05454545454545434\n",
      "epoches 220:  73.534744 0.23076923076923078 0.7692307692307693 0.0249999999999998\n",
      "epoches 240:  72.42699 0.21678321678321677 0.7832167832167832 0.084090909090909\n",
      "epoches 260:  71.19506 0.1958041958041958 0.8041958041958042 0.17272727272727262\n",
      "epoches 280:  69.46502 0.18181818181818182 0.8181818181818182 0.2318181818181817\n",
      "epoches 300:  70.93441 0.2097902097902098 0.7902097902097902 0.11363636363636342\n",
      "epoches 320:  72.50188 0.1888111888111888 0.8111888111888111 0.20227272727272716\n",
      "epoches 340:  70.43208 0.2097902097902098 0.7902097902097902 0.11363636363636342\n",
      "epoches 360:  73.689926 0.22377622377622378 0.7762237762237763 0.05454545454545434\n",
      "epoches 380:  71.32408 0.1888111888111888 0.8111888111888111 0.20227272727272716\n",
      "epoches 400:  69.358635 0.1958041958041958 0.8041958041958042 0.17272727272727262\n",
      "epoches 420:  70.88647 0.1888111888111888 0.8111888111888111 0.20227272727272716\n",
      "epoches 440:  70.75203 0.1888111888111888 0.8111888111888111 0.20227272727272716\n",
      "epoches 460:  70.92796 0.1958041958041958 0.8041958041958042 0.17272727272727262\n",
      "epoches 480:  69.74184 0.1888111888111888 0.8111888111888111 0.20227272727272716\n",
      "epoches 500:  70.7454 0.1958041958041958 0.8041958041958042 0.17272727272727262\n",
      "epoches 520:  68.81887 0.16783216783216784 0.8321678321678322 0.2909090909090908\n",
      "epoches 540:  72.32752 0.20279720279720279 0.7972027972027972 0.14318181818181808\n",
      "epoches 560:  68.46621 0.17482517482517482 0.8251748251748252 0.26136363636363624\n",
      "epoches 580:  70.4348 0.1888111888111888 0.8111888111888111 0.20227272727272716\n",
      "epoches 600:  69.36171 0.16783216783216784 0.8321678321678322 0.2909090909090908\n",
      "epoches 620:  70.42405 0.18181818181818182 0.8181818181818182 0.2318181818181817\n",
      "epoches 640:  67.491264 0.18181818181818182 0.8181818181818182 0.2318181818181817\n",
      "epoches 660:  72.328995 0.21678321678321677 0.7832167832167832 0.084090909090909\n",
      "epoches 680:  70.47099 0.20279720279720279 0.7972027972027972 0.14318181818181808\n",
      "epoches 700:  71.19561 0.20279720279720279 0.7972027972027972 0.14318181818181808\n",
      "epoches 720:  71.0565 0.20279720279720279 0.7972027972027972 0.14318181818181808\n",
      "epoches 740:  71.40273 0.20279720279720279 0.7972027972027972 0.14318181818181808\n",
      "epoches 760:  71.91502 0.23776223776223776 0.7622377622377622 -0.00454545454545463\n",
      "epoches 780:  68.32041 0.2097902097902098 0.7902097902097902 0.11363636363636342\n",
      "epoches 800:  69.41006 0.2097902097902098 0.7902097902097902 0.11363636363636342\n",
      "epoches 820:  70.48586 0.20279720279720279 0.7972027972027972 0.14318181818181808\n",
      "epoches 840:  68.97944 0.1888111888111888 0.8111888111888111 0.20227272727272716\n",
      "epoches 860:  71.15607 0.20279720279720279 0.7972027972027972 0.14318181818181808\n",
      "epoches 880:  74.37518 0.23776223776223776 0.7622377622377622 -0.00454545454545463\n",
      "epoches 900:  72.114395 0.21678321678321677 0.7832167832167832 0.084090909090909\n",
      "epoches 920:  69.81072 0.1958041958041958 0.8041958041958042 0.17272727272727262\n",
      "epoches 940:  70.21997 0.1958041958041958 0.8041958041958042 0.17272727272727262\n",
      "epoches 960:  69.85804 0.17482517482517482 0.8251748251748252 0.26136363636363624\n",
      "epoches 980:  74.55074 0.23076923076923078 0.7692307692307693 0.0249999999999998\n",
      "Training:\n",
      "mse  0.15114235500878734\n",
      "accuracy 0.8488576449912126\n",
      "R2 0.3749489066012671\n"
     ]
    },
    {
     "data": {
      "image/png": "[encoded data removed]",
      "text/plain": [
       "<matplotlib.figure.Figure at 0x11aebaf60>"
      ]
     },
     "metadata": {},
     "output_type": "display_data"
    }
   ],
   "source": [
    "# train model and make predictions\n",
    "ypred=train_model(\n",
    "    1e-3, 1000, 100, True,\n",
    "    p_train_X.values, p_train_y.values, p_test_X.values, p_test_y.values, p_test.values,\n",
    "    20)\n",
    "writecsv(ypred, test, 'Dense_pp1.csv')"
   ]
  },
  {
   "cell_type": "markdown",
   "metadata": {},
   "source": [
    " "
   ]
  },
  {
   "cell_type": "markdown",
   "metadata": {},
   "source": [
    "##### SVM"
   ]
  },
  {
   "cell_type": "markdown",
   "metadata": {},
   "source": [
    "First, we loaded the training data, ran the same preprocessing as above.\n",
    "\n",
    "To see if SVM model is good prediction model for the Titanic data set, we did the following:\n",
    "1. Run the SVC library with the default setting and calculate the accuracy for K-fold cross validation.\n",
    "2. Explore different C for linear SVM model, and find the optimal C.\n",
    "3. Find the best model parameters with Grid Search cross validation.\n",
    "4. Use the our best SVM model to generate the prediction on the testing data and submit to Kaggle."
   ]
  },
  {
   "cell_type": "code",
   "execution_count": 18,
   "metadata": {},
   "outputs": [],
   "source": [
    "train=pd.read_csv('train.csv')"
   ]
  },
  {
   "cell_type": "code",
   "execution_count": 19,
   "metadata": {},
   "outputs": [
    {
     "name": "stdout",
     "output_type": "stream",
     "text": [
      "(712, 13)\n"
     ]
    }
   ],
   "source": [
    "proccessed_data=preprocess(train, 'train')\n",
    "X_train, y_train = splitXy (proccessed_data)"
   ]
  },
  {
   "cell_type": "markdown",
   "metadata": {},
   "source": [
    "<b>Step 1:</b> Run K-fold Cross Validation with the default SVC()"
   ]
  },
  {
   "cell_type": "code",
   "execution_count": 20,
   "metadata": {},
   "outputs": [
    {
     "name": "stdout",
     "output_type": "stream",
     "text": [
      "[0.59722222 0.54166667 0.70833333 0.69444444 0.66197183 0.76056338\n",
      " 0.69014085 0.69014085 0.74285714 0.8       ]\n",
      "Accuracy of SVM is:  68.8734071093226\n"
     ]
    }
   ],
   "source": [
    "svc = SVC()\n",
    "print(cross_val_score(svc, X_train, y_train, scoring='accuracy', cv = 10))\n",
    "accuracy = cross_val_score(svc, X_train, y_train, scoring='accuracy', cv = 10).mean() * 100\n",
    "print(\"Accuracy of SVM is: \" , accuracy)"
   ]
  },
  {
   "cell_type": "markdown",
   "metadata": {},
   "source": [
    "The accuracy was not that bad, but we would like to see if we could improve it with changing the model parameters."
   ]
  },
  {
   "cell_type": "markdown",
   "metadata": {},
   "source": [
    "<b>Step 2:</b> Explore different C for linear SVM model"
   ]
  },
  {
   "cell_type": "code",
   "execution_count": 21,
   "metadata": {},
   "outputs": [
    {
     "data": {
      "image/png": "[encoded data removed]",
      "text/plain": [
       "<matplotlib.figure.Figure at 0x10be45da0>"
      ]
     },
     "metadata": {},
     "output_type": "display_data"
    }
   ],
   "source": [
    "svc = SVC(kernel='linear')\n",
    "\n",
    "scores = list()\n",
    "scores_std = list()\n",
    "C_s = np.logspace(-10, 0, 10)\n",
    "\n",
    "for C in C_s:\n",
    "    svc.C = C\n",
    "    this_scores = cross_val_score(svc, X_train, y_train, n_jobs=1)\n",
    "    scores.append(np.mean(this_scores))\n",
    "    scores_std.append(np.std(this_scores))\n",
    "\n",
    "# Do the plotting\n",
    "plt.figure(1, figsize=(10, 8))\n",
    "plt.clf()\n",
    "plt.semilogx(C_s, scores)\n",
    "plt.semilogx(C_s, np.array(scores) + np.array(scores_std), 'b--')\n",
    "plt.semilogx(C_s, np.array(scores) - np.array(scores_std), 'b--')\n",
    "locs, labels = plt.yticks()\n",
    "plt.yticks(locs, list(map(lambda x: \"%g\" % x, locs)))\n",
    "plt.ylabel('CV score')\n",
    "plt.xlabel('Parameter C')\n",
    "plt.ylim(0.5, 1.0)\n",
    "plt.xlim(1.0e-10,1)\n",
    "plt.show()"
   ]
  },
  {
   "cell_type": "markdown",
   "metadata": {},
   "source": [
    "From the above graph, it seems that C is optimal when C = 1."
   ]
  },
  {
   "cell_type": "markdown",
   "metadata": {},
   "source": [
    "<b>Step 3:</b> Grid Search Cross Validation "
   ]
  },
  {
   "cell_type": "markdown",
   "metadata": {},
   "source": [
    "We tried to use Grid Search cross validation to obtain the SVM model with the best parameters for the kernel and C."
   ]
  },
  {
   "cell_type": "code",
   "execution_count": 22,
   "metadata": {},
   "outputs": [
    {
     "name": "stdout",
     "output_type": "stream",
     "text": [
      "The best parameters are {'C': 1, 'kernel': 'linear'} with a score of 0.78\n"
     ]
    }
   ],
   "source": [
    "parameters = {'kernel':('linear', 'rbf'), 'C':[1, 10]}\n",
    "model = SVC()\n",
    "grid = GridSearchCV(model, parameters)\n",
    "grid.fit(X_train, y_train)\n",
    "print(\"The best parameters are %s with a score of %0.2f\"\n",
    "      % (grid.best_params_, grid.best_score_))"
   ]
  },
  {
   "cell_type": "markdown",
   "metadata": {},
   "source": [
    "The result aligned with our finding in Step 2, so we chose this obtained model as our best SVM model. "
   ]
  },
  {
   "cell_type": "code",
   "execution_count": 23,
   "metadata": {},
   "outputs": [],
   "source": [
    "best_model = grid.best_estimator_"
   ]
  },
  {
   "cell_type": "markdown",
   "metadata": {},
   "source": [
    "<b>Step 4:</b> Generate our prediction on the testing data"
   ]
  },
  {
   "cell_type": "code",
   "execution_count": 24,
   "metadata": {},
   "outputs": [
    {
     "name": "stdout",
     "output_type": "stream",
     "text": [
      "(418, 12)\n"
     ]
    }
   ],
   "source": [
    "test = pd.read_csv('test.csv')\n",
    "test_X = preprocess(test, 'test')"
   ]
  },
  {
   "cell_type": "code",
   "execution_count": 25,
   "metadata": {},
   "outputs": [],
   "source": [
    "pred_y = best_model.predict(test_X)\n",
    "writecsv(pred_y, test, \"SVM.csv\")"
   ]
  },
  {
   "cell_type": "markdown",
   "metadata": {},
   "source": [
    "We submitted <i>\"SVM.csv\"</i> to Kaggle, and we got a score of 0.76555 for our best SVM model."
   ]
  },
  {
   "cell_type": "markdown",
   "metadata": {},
   "source": [
    "##### Multilayer Neural Network with sklearn\n",
    "\n",
    "First, we loaded the training data, ran the same preprocessing as above.\n",
    "To see if multilayer neural network model is good prediction model for the Titanic data set, we did the following:\n",
    "Set the hidden layers of the neural network to be 15 with lpha=1e-5.\n",
    "Run the MLPClassifier library and calculate the accuracy.\n",
    "Use the multilayers neural network model to generate the prediction on the testing data and submit to Kaggle."
   ]
  },
  {
   "cell_type": "code",
   "execution_count": 26,
   "metadata": {},
   "outputs": [],
   "source": [
    "train=pd.read_csv('train.csv')"
   ]
  },
  {
   "cell_type": "code",
   "execution_count": 27,
   "metadata": {},
   "outputs": [
    {
     "name": "stdout",
     "output_type": "stream",
     "text": [
      "(712, 13)\n"
     ]
    }
   ],
   "source": [
    "proccessed_data=preprocess(train, 'train')\n",
    "X_train, y_train = splitXy (proccessed_data)"
   ]
  },
  {
   "cell_type": "markdown",
   "metadata": {},
   "source": [
    "Step 1: Run the multilayer neural network. Splitting the dataset randomly for training and testing. "
   ]
  },
  {
   "cell_type": "code",
   "execution_count": 28,
   "metadata": {},
   "outputs": [
    {
     "data": {
      "text/plain": [
       "0.7872340425531915"
      ]
     },
     "execution_count": 28,
     "metadata": {},
     "output_type": "execute_result"
    }
   ],
   "source": [
    "X_train, X_test, y_train, y_test = train_test_split(X_train, y_train, test_size=0.33, random_state=42)\n",
    "\n",
    "\n",
    "#from sklearn.neural_network import MLPClassifier\n",
    "clf = MLPClassifier(solver='lbfgs', alpha=1e-5,hidden_layer_sizes=(15,), random_state=1)\n",
    "clf.fit(X_train, y_train) \n",
    "clf.score(X_test,y_test,sample_weight=None)"
   ]
  },
  {
   "cell_type": "markdown",
   "metadata": {},
   "source": [
    "Step 2:We get an accuracy of around 78%. Then, we generate our prediction on the testing data."
   ]
  },
  {
   "cell_type": "code",
   "execution_count": 29,
   "metadata": {},
   "outputs": [
    {
     "name": "stdout",
     "output_type": "stream",
     "text": [
      "(418, 12)\n"
     ]
    }
   ],
   "source": [
    "test = pd.read_csv('test.csv')\n",
    "test_X = preprocess(test, 'test')"
   ]
  },
  {
   "cell_type": "code",
   "execution_count": 30,
   "metadata": {},
   "outputs": [],
   "source": [
    "pred_y = clf.predict(test_X)\n",
    "writecsv(pred_y, test, \"neural.csv\")"
   ]
  },
  {
   "cell_type": "markdown",
   "metadata": {},
   "source": [
    "We submitted \"neural.csv\" to Kaggle, and we got a score of 0.76555 for our multilayers neyral network model."
   ]
  },
  {
   "cell_type": "markdown",
   "metadata": {},
   "source": [
    "##### Choosing the best model"
   ]
  },
  {
   "cell_type": "markdown",
   "metadata": {},
   "source": [
    "The models with highest accuracy from Kaggle is multilayer neural network and SVM. \n",
    "\n",
    "We decide to choose SVM as it is easier to train. "
   ]
  },
  {
   "cell_type": "markdown",
   "metadata": {},
   "source": [
    "### Feature Engineering As Preprocessing for Prediction with SVM"
   ]
  },
  {
   "cell_type": "markdown",
   "metadata": {},
   "source": [
    "The above training on our prediction model was based on the training data after undergoing a simple preprocessing. We dropped some predictors based on the fact that they could be readily used for the model training."
   ]
  },
  {
   "cell_type": "markdown",
   "metadata": {},
   "source": [
    "However, we believe that there might be some hidden information within theses predictors that could potentially improve the prediction. So we did the following graphical analysis on some dropped predictors."
   ]
  },
  {
   "cell_type": "markdown",
   "metadata": {},
   "source": [
    "##### Cabin"
   ]
  },
  {
   "cell_type": "code",
   "execution_count": 31,
   "metadata": {},
   "outputs": [
    {
     "data": {
      "image/png": "[encoded data removed]",
      "text/plain": [
       "<matplotlib.figure.Figure at 0x11de43dd8>"
      ]
     },
     "metadata": {},
     "output_type": "display_data"
    }
   ],
   "source": [
    "train=pd.read_csv('train.csv')\n",
    "cabin_list = train['Cabin'].copy()\n",
    "\n",
    "cabin_record = []\n",
    "for c in cabin_list:\n",
    "    if(str(c)[0] == 'A'):\n",
    "        cabin_record.append ('A')\n",
    "    elif(str(c)[0] == 'B'):\n",
    "        cabin_record.append ('B')\n",
    "    elif(str(c)[0] == 'C'):\n",
    "        cabin_record.append ('C')\n",
    "    elif(str(c)[0] == 'D'):\n",
    "        cabin_record.append ('D')\n",
    "    elif(str(c)[0] == 'E'):\n",
    "        cabin_record.append ('E')\n",
    "    elif(str(c)[0] == 'F'):\n",
    "        cabin_record.append ('F')\n",
    "    elif(str(c)[0] == 'G'):\n",
    "        cabin_record.append ('G')\n",
    "    elif(str(c)[0] == 'T'):\n",
    "        cabin_record.append ('T')\n",
    "    else:\n",
    "        cabin_record.append ('No record')\n",
    "\n",
    "train['Cabin_code'] = cabin_record\n",
    "sns.countplot(x=\"Cabin_code\", hue=\"Survived\", data=train);"
   ]
  },
  {
   "cell_type": "markdown",
   "metadata": {},
   "source": [
    "From the plot above, it shows that the 'Cabin' attribute contains some information that can help predict the probability of survial. For example, if a passenger had no cabin record, he/she was less likely to survive the accident.\n",
    "\n",
    "So we think it is a good idea to include the Cabin classification in the preprocessing."
   ]
  },
  {
   "cell_type": "markdown",
   "metadata": {},
   "source": [
    "##### Name"
   ]
  },
  {
   "cell_type": "code",
   "execution_count": 32,
   "metadata": {},
   "outputs": [
    {
     "data": {
      "image/png": "[encoded data removed]",
      "text/plain": [
       "<matplotlib.figure.Figure at 0x1187d7550>"
      ]
     },
     "metadata": {},
     "output_type": "display_data"
    }
   ],
   "source": [
    "train=pd.read_csv('train.csv')\n",
    "name_list = train['Name'].copy()\n",
    "\n",
    "title = []\n",
    "for n in name_list:\n",
    "    if('Mr.' in str(n)):\n",
    "        title.append ('Mr.')\n",
    "    elif('Mrs.' in str(n)):\n",
    "        title.append ('Mrs.')\n",
    "    elif('Miss.' in str(n)):\n",
    "        title.append ('Miss.')\n",
    "    elif('Master.' in str(n)):\n",
    "        title.append ('Master.')\n",
    "    elif('Ms.' in str(n)):\n",
    "        title.append ('Ms.')\n",
    "    elif('Dr.' in str(n)):\n",
    "        title.append ('Dr.')\n",
    "    else:\n",
    "        title.append ('Other')\n",
    "\n",
    "train['Title'] = title\n",
    "sns.countplot(x=\"Title\", hue=\"Survived\", data=train);"
   ]
  },
  {
   "cell_type": "markdown",
   "metadata": {},
   "source": [
    "#### New Preprocessing Function"
   ]
  },
  {
   "cell_type": "markdown",
   "metadata": {},
   "source": [
    "We decide to use some dropped predictors in previous preprocessing, like Cabin and Name, to see whether it improves the result.\n",
    "1. we change Sex to 0 and 1 (0 for female, 1 for male)\n",
    "2. we make Cabin dummy variables. Cabin_0: missing Cabin, Cabin_X: Cabin that starts with alphabet X\n",
    "3. we drop Ticket\n",
    "4. we fill missing Age with age mean for corresponding Sex group\n",
    "5. we fill missing Fare with fare median for all training data\n",
    "6. we make Name dummy variables. Name_Mr, Name_Mrs, Name_Miss, Name_Master, Name_Ms, Name_Dr. If a name doesn't belongs to any of it, it is Name_Other. \n",
    "7. we take a log of (Fare + 1)\n",
    "8. we add a new feature group_size, group_size = SibSp + Parch\n",
    "9. we delete PassengerId"
   ]
  },
  {
   "cell_type": "code",
   "execution_count": 33,
   "metadata": {},
   "outputs": [],
   "source": [
    "def preprocess2 (_data):\n",
    "    data = _data.copy()\n",
    "    # treat Sex\n",
    "    data['Sex'] = [1 if el == 'male' else 0 for el in data['Sex']]\n",
    "    # treat Embarked and Pclass as categorical predictor\n",
    "    data = pd.get_dummies(data, columns=['Embarked', 'Pclass'])\n",
    "    # treat Cabin, classify as 0: Nan, and other label according to their first alphabet\n",
    "    # make Cabin a categorical predictor\n",
    "    Cabin_labels = ['0', 'A', 'B', 'C', 'D', 'E', 'F', 'G', 'T']\n",
    "    Cabin_dict = {}\n",
    "    for label in Cabin_labels:\n",
    "        Cabin_dict['Cabin_'+label] = data['Cabin'].copy()\n",
    "    Cabin = data['Cabin'].copy()\n",
    "    for i in range(0, len(Cabin)):\n",
    "        if not pd.notnull(Cabin[i]):\n",
    "            Cabin_dict['Cabin_0'][i] = 1\n",
    "            for label in Cabin_labels:\n",
    "                Cabin_dict['Cabin_'+label][i] = 0\n",
    "        else:\n",
    "            Cabin_dict['Cabin_0'][i] = 0\n",
    "            for label in Cabin_labels:\n",
    "                if Cabin[i][0] == label:\n",
    "                    Cabin_dict['Cabin_'+label][i] = 1\n",
    "                else:\n",
    "                    Cabin_dict['Cabin_'+label][i] = 0\n",
    "    for label in Cabin_labels:\n",
    "        data['Cabin_'+label] = Cabin_dict['Cabin_'+label]\n",
    "    data = data.drop(['Cabin'], 1)\n",
    "    # drop Ticket\n",
    "    data = data.drop(['Ticket'], 1)\n",
    "    # Age median according to Sex\n",
    "    Age = data['Age'].copy()\n",
    "    for i in range(0, len(Age)):\n",
    "        if not pd.notnull(Age[i]):\n",
    "            if data['Sex'][i] == 0:\n",
    "                Age[i] = 27\n",
    "            else:\n",
    "                Age[i] = 29\n",
    "    data['Age'] = Age\n",
    "    # treat missing fare, fill with median\n",
    "    Fare = data['Fare'].copy()\n",
    "    for i in range(0, len(Fare)):\n",
    "        if not pd.notnull(Fare[i]):\n",
    "            Fare[i] = 14.4542\n",
    "    data['Fare'] = Fare\n",
    "    # treat name as categorical\n",
    "    Name_labels = ['Mr.', 'Mrs.', 'Miss.', 'Master.', 'Ms.', 'Dr.', 'Other.']\n",
    "    Name_dict = {}\n",
    "    for label in Name_labels:\n",
    "        Name_dict['Name_'+label] = data['Name'].copy()\n",
    "    for i in range(0, len(data['Name'])):\n",
    "        found = False\n",
    "        for label in ['Mr.', 'Mrs.', 'Miss.', 'Master.', 'Ms.', 'Dr.']:\n",
    "            if label in data['Name'][i]:\n",
    "                Name_dict['Name_'+label][i] = 1\n",
    "                found = True\n",
    "            else:\n",
    "                Name_dict['Name_'+label][i] = 0\n",
    "        if found:\n",
    "            Name_dict['Name_'+'Other.'][i] = 0\n",
    "        else:\n",
    "            Name_dict['Name_'+'Other.'][i] = 1\n",
    "    for label in Name_labels:\n",
    "        short_label=label[0:len(label)-1]\n",
    "        data['Name_'+short_label] = Name_dict['Name_'+label]\n",
    "    data = data.drop(['Name'], 1)\n",
    "    # log Fare\n",
    "    Fare = data['Fare'].copy()\n",
    "    for i in range(0, len(Fare)):\n",
    "        Fare[i] = np.log(Fare[i]+1)\n",
    "    data['Fare'] = Fare\n",
    "    # add new feature group_size\n",
    "    group_size=data['SibSp'].copy()\n",
    "    for i in range(0,len(group_size)):\n",
    "        group_size[i]=data['SibSp'][i]+data['Parch'][i]\n",
    "    data['group_size']=group_size\n",
    "    # delete PassengerId\n",
    "    data = data.drop(['PassengerId'], 1)\n",
    "    print(data.shape)\n",
    "    \n",
    "    return data"
   ]
  },
  {
   "cell_type": "markdown",
   "metadata": {},
   "source": [
    "#### SVM Prediction"
   ]
  },
  {
   "cell_type": "code",
   "execution_count": 34,
   "metadata": {},
   "outputs": [
    {
     "name": "stdout",
     "output_type": "stream",
     "text": [
      "(891, 29)\n",
      "Index(['Sex', 'Age', 'SibSp', 'Parch', 'Fare', 'Embarked_C', 'Embarked_Q',\n",
      "       'Embarked_S', 'Pclass_1', 'Pclass_2', 'Pclass_3', 'Cabin_0', 'Cabin_A',\n",
      "       'Cabin_B', 'Cabin_C', 'Cabin_D', 'Cabin_E', 'Cabin_F', 'Cabin_G',\n",
      "       'Cabin_T', 'Name_Mr', 'Name_Mrs', 'Name_Miss', 'Name_Master', 'Name_Ms',\n",
      "       'Name_Dr', 'Name_Other', 'group_size'],\n",
      "      dtype='object')\n"
     ]
    }
   ],
   "source": [
    "train=pd.read_csv('train.csv')\n",
    "proccessed_data=preprocess2(train)\n",
    "X_train, y_train = splitXy (proccessed_data)\n",
    "print(X_train.columns)"
   ]
  },
  {
   "cell_type": "code",
   "execution_count": 35,
   "metadata": {},
   "outputs": [
    {
     "name": "stdout",
     "output_type": "stream",
     "text": [
      "The best parameters are {'C': 0.1, 'kernel': 'linear'} with a score of 0.82\n"
     ]
    }
   ],
   "source": [
    "parameters = {'kernel':('linear', 'rbf'), 'C':[0.01, 0.1, 1, 10]}\n",
    "model = SVC()\n",
    "grid = GridSearchCV(model, parameters)\n",
    "grid.fit(X_train, y_train)\n",
    "print(\"The best parameters are %s with a score of %0.2f\"\n",
    "      % (grid.best_params_, grid.best_score_))"
   ]
  },
  {
   "cell_type": "code",
   "execution_count": 36,
   "metadata": {},
   "outputs": [
    {
     "name": "stdout",
     "output_type": "stream",
     "text": [
      "Training:\n",
      "mse  0.17059483726150393\n",
      "accuracy 0.8294051627384961\n",
      "R2 0.2786885245901638\n"
     ]
    },
    {
     "data": {
      "text/plain": [
       "(0.17059483726150393, 0.8294051627384961, 0.2786885245901638)"
      ]
     },
     "execution_count": 36,
     "metadata": {},
     "output_type": "execute_result"
    }
   ],
   "source": [
    "best_model = grid.best_estimator_\n",
    "ypred=best_model.predict(X_train)\n",
    "print('Training:')\n",
    "measureResult(ypred, y_train, True)"
   ]
  },
  {
   "cell_type": "code",
   "execution_count": 37,
   "metadata": {},
   "outputs": [
    {
     "name": "stdout",
     "output_type": "stream",
     "text": [
      "(418, 28)\n"
     ]
    }
   ],
   "source": [
    "test = pd.read_csv('test.csv')\n",
    "test_X = preprocess2(test)\n",
    "pred_y = best_model.predict(test_X)\n",
    "writecsv(pred_y, test, \"SVM_pp_report_final_highest.csv\")"
   ]
  },
  {
   "cell_type": "markdown",
   "metadata": {},
   "source": [
    "We get accuracy 0.78468 from Kaggle"
   ]
  },
  {
   "cell_type": "code",
   "execution_count": null,
   "metadata": {},
   "outputs": [],
   "source": []
  },
  {
   "cell_type": "markdown",
   "metadata": {},
   "source": [
    "### **Conclusion**"
   ]
  },
  {
   "cell_type": "markdown",
   "metadata": {},
   "source": [
    "SVM and Multilayer neural network are the best among all the models we try for simply preprocessed data. For training simplicity and other convenience issues, we choose SVM. \n",
    "\n",
    "Age, Sex and Fare may be the most important features. Other features with proper preprocessing may also be useful for prediction improvement. \n",
    "For example, people with missing Cabin value tend to be predicted as not survived. (there may be lower chance to get the Cabin information for people who didn't survive)\n",
    "Younger people, older people and female have higher chance to be predicted as survived. (this corresponds to the common behavior of protecting young people, old people and female)\n",
    "People with higher Fares have higher chance to be predicted as survived. (higher Fares could possibly indicate higher social and economical status, thus increase the survival chance)\n",
    "\n",
    "Feature engineering is really powerful for improving prediction accuracy. With proper feature engineering, the prediction accuracy may improves quite a lot.  \n",
    "\n",
    "We finally use preprocess2 function to do the preprocessing and use SVM with linear kernel and C 0.1 to get our highest accuracy from Kaggle, which is 0.78468. "
   ]
  },
  {
   "cell_type": "code",
   "execution_count": null,
   "metadata": {},
   "outputs": [],
   "source": []
  }
 ],
 "metadata": {
  "kernelspec": {
   "display_name": "Python 3",
   "language": "python",
   "name": "python3"
  },
  "language_info": {
   "codemirror_mode": {
    "name": "ipython",
    "version": 3
   },
   "file_extension": ".py",
   "mimetype": "text/x-python",
   "name": "python",
   "nbconvert_exporter": "python",
   "pygments_lexer": "ipython3",
   "version": "3.6.4"
  }
 },
 "nbformat": 4,
 "nbformat_minor": 2
}
