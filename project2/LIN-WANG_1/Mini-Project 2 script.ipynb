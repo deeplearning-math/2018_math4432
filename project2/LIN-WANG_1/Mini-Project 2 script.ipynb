{
 "cells": [
  {
   "cell_type": "markdown",
   "metadata": {
    "_cell_guid": "666da0c4-ec98-4f1e-9ab6-5a445bbfb3ed",
    "_uuid": "2e929a567e3458653a46d89b72d84400ffb24a60"
   },
   "source": [
    "# Data Preparation &Cleaning & Feature Engineering"
   ]
  },
  {
   "cell_type": "code",
   "execution_count": null,
   "metadata": {
    "_cell_guid": "a3a01e66-29a0-44ae-bd52-74ed448cd013",
    "_kg_hide-input": false,
    "_kg_hide-output": false,
    "_uuid": "37146508a153f0f9309b02ae28d9cbe6bca9c150",
    "collapsed": true
   },
   "outputs": [],
   "source": [
    "from math import sqrt\n",
    "import numpy as np # linear algebra\n",
    "import pandas as pd # data processing, CSV file I/O (e.g. pd.read_csv)\n",
    "import seaborn as sns\n",
    "import scipy.sparse\n",
    "from scipy.sparse import hstack\n",
    "from matplotlib import pyplot as plt\n",
    "from scipy import stats\n",
    "from scipy.stats import norm, skew\n",
    "pd.set_option('display.float_format', lambda x: '{:.3f}'.format(x))"
   ]
  },
  {
   "cell_type": "markdown",
   "metadata": {
    "_cell_guid": "961c2d27-6a61-4e7b-af90-2af90e1385c8",
    "_uuid": "ce27207c692653c68640fcc9c15a5ffd0fe5f563"
   },
   "source": [
    "# Load Data "
   ]
  },
  {
   "cell_type": "code",
   "execution_count": 39,
   "metadata": {
    "_cell_guid": "d2c69e19-1d58-41f9-ab11-e9e5ec419a2f",
    "_uuid": "967b5d821b6b5a6d726fafaba4a4d6ec786ab3e4",
    "collapsed": true,
    "scrolled": false
   },
   "outputs": [],
   "source": [
    "train_df = pd.read_csv('../input/train.csv')\n",
    "test_df = pd.read_csv('../input/test.csv')\n",
    "Y_train = train_df['SalePrice']\n",
    "\n",
    "train_id = train_df['Id']\n",
    "test_id = test_df['Id']\n",
    "train_df.drop([\"Id\", 'SalePrice'], inplace=True, axis=1)\n",
    "test_df.drop(\"Id\", inplace=True, axis=1)"
   ]
  },
  {
   "cell_type": "markdown",
   "metadata": {
    "_cell_guid": "0ef2190e-2a67-4c45-b6ca-7409e42dde23",
    "_uuid": "631ca3a3c8e70491d1c81fdec9cb9d510ba9ec7d"
   },
   "source": [
    "# Analyze & Clean Data "
   ]
  },
  {
   "cell_type": "markdown",
   "metadata": {
    "_cell_guid": "4a6a2bc7-a634-4b63-bd6b-b0fa8940d17c",
    "_uuid": "5d3c72fa15865c3469104778cd129f952aa19e8c"
   },
   "source": [
    "## Check and fill missing data"
   ]
  },
  {
   "cell_type": "code",
   "execution_count": 40,
   "metadata": {
    "_cell_guid": "a1eb43cd-1f71-4f99-ace8-b3a81efe9a7d",
    "_kg_hide-output": false,
    "_uuid": "ccc9694521ab2688a1ac414fc701d4361cdbaa01",
    "scrolled": true
   },
   "outputs": [],
   "source": [
    "ntrain = train_df.shape[0]\n",
    "ntest = test_df.shape[0]\n",
    "all_data = pd.concat((train_df, test_df))\n",
    "\n",
    "print(\"all_data size is : {}\".format(all_data.shape))\n",
    "\n",
    "all_data_na = (all_data.isnull().sum() / len(all_data)) * 100\n",
    "all_data_na = all_data_na.drop(all_data_na[all_data_na == 0].index).sort_values(ascending=False)\n",
    "missing_data = pd.DataFrame({'Missing Ratio' :all_data_na})\n",
    "missing_data.head"
   ]
  },
  {
   "cell_type": "code",
   "execution_count": 41,
   "metadata": {
    "_cell_guid": "9f90495b-7269-43a8-821b-f9d28e376267",
    "_uuid": "7f4861afd07bcb024496aa36dd746e3adf4e18d9"
   },
   "outputs": [],
   "source": [
    "import math\n",
    "fill_none = ['PoolQC', 'MiscFeature', 'Alley', 'Fence', 'FireplaceQu', 'GarageFinish',\n",
    "             'GarageQual', 'GarageCond', 'GarageType', 'BsmtExposure', 'BsmtCond', 'BsmtQual',\n",
    "            'BsmtFinType2', 'BsmtFinType1', 'MasVnrType', 'MasVnrArea']\n",
    "fill_zero = ['BsmtFinSF1', 'BsmtFinSF2', 'BsmtUnfSF','TotalBsmtSF', 'BsmtFullBath', 'BsmtHalfBath', 'GarageCars', 'GarageArea']\n",
    "fill_neighb = ['MSZoning', 'LotFrontage']\n",
    "fill_mode = ['Exterior2nd', 'Exterior1st', 'Functional', 'SaleType', 'Electrical', 'KitchenQual']\n",
    "\n",
    "all_data.drop(['Utilities'], axis=1, inplace=True)\n",
    "for col in fill_none:\n",
    "    all_data[col].fillna(\"None\", inplace=True)\n",
    "\n",
    "for col in fill_zero:\n",
    "    all_data[col].fillna(0, inplace=True)\n",
    "\n",
    "all_data['MSZoning'] = all_data['MSZoning'].fillna(all_data['MSZoning'].mode()[0])\n",
    "all_data['LotFrontage'] = all_data.groupby(\"Neighborhood\")['LotFrontage'].transform(lambda x: x.fillna(x.median()))\n",
    "for col in fill_mode:\n",
    "    all_data[col] = all_data[col].fillna(all_data[col].mode()[0])\n",
    "    \n",
    "for idx, row in all_data.iterrows():\n",
    "    if(math.isnan(row['GarageYrBlt'])):\n",
    "        all_data.set_value(idx, 'GarageYrBlt', row['YearBuilt'])"
   ]
  },
  {
   "cell_type": "code",
   "execution_count": 42,
   "metadata": {
    "_cell_guid": "99085df0-d0be-474f-99ca-57d33ee1a94f",
    "_uuid": "27e6c27285d3dbbaa593936eb24bdc9dae7b15e1",
    "collapsed": true,
    "scrolled": true
   },
   "outputs": [],
   "source": [
    "for col in all_data.columns:\n",
    "    if all_data[col].isnull().any():\n",
    "        print(col)\n"
   ]
  },
  {
   "cell_type": "markdown",
   "metadata": {
    "_cell_guid": "722c2e16-63d5-4d2d-acdc-cf980aed7a11",
    "_uuid": "cc80cbc1043d3719b2bfdf68c4c2f587414c9f9c"
   },
   "source": [
    "## Convert all data to numerical type"
   ]
  },
  {
   "cell_type": "code",
   "execution_count": 43,
   "metadata": {
    "_cell_guid": "1da30d46-741c-44ef-a01c-7973b94d0327",
    "_uuid": "ffbce515d13299aaec3f8c23d1f01aa6949fc231"
   },
   "outputs": [],
   "source": [
    "#log transform skewed numeric features:\n",
    "numeric_feats = all_data.dtypes[all_data.dtypes != \"object\"].index\n",
    "\n",
    "skewed_feats = all_data[numeric_feats].apply(lambda x: skew(x.dropna())) #compute skewness\n",
    "skewed_feats = skewed_feats[skewed_feats > 0.75]\n",
    "skewed_feats = skewed_feats.index\n",
    "\n",
    "all_data[skewed_feats] = np.log1p(all_data[skewed_feats])\n",
    "\n",
    "\n",
    "# all_data = pd.get_dummies(all_data)\n",
    "print(all_data.columns)\n",
    "\n",
    "from sklearn.preprocessing import LabelEncoder\n",
    "for col in all_data.columns:\n",
    "    lbl = LabelEncoder()\n",
    "    if(all_data[col].dtype == 'object'):\n",
    "        lbl.fit(list(all_data[col].values))\n",
    "        \n",
    "        all_data[col] = lbl.transform(list(all_data[col].values))\n",
    "# for col in all_data.columns:\n",
    "#     print(all_data[col].dtype)\n",
    "# pd.DataFrae({'GrLivArea', all_data['GrLivArea']}).hist()\n",
    "Y_train=np.log1p(Y_train)\n",
    "X_train = all_data[:train_id.shape[0]]\n",
    "X_test = all_data[train_id.shape[0]:]"
   ]
  },
  {
   "cell_type": "markdown",
   "metadata": {
    "_cell_guid": "0eb23967-e273-4e21-8a18-f312489f4145",
    "_uuid": "2f84ea4f36bf661b326f924a6450b000a1b3e72a"
   },
   "source": [
    "# Feature Selection"
   ]
  },
  {
   "cell_type": "markdown",
   "metadata": {
    "_cell_guid": "dc56f512-5db0-459b-a8d3-8ee81134ad6e",
    "_uuid": "1358fcdfa4d453e706c44ed0e9bab3934494527e"
   },
   "source": [
    "#  Run Recursive Feature Elimination"
   ]
  },
  {
   "cell_type": "code",
   "execution_count": 44,
   "metadata": {
    "_cell_guid": "1e850001-f496-49a1-b5d6-2aed567a05dc",
    "_uuid": "ce43345951194fe5317b1c7e75d168c603d59e82",
    "scrolled": true
   },
   "outputs": [],
   "source": [
    "from sklearn.feature_selection import RFECV\n",
    "from sklearn.model_selection import StratifiedKFold\n",
    "from sklearn.linear_model import Lasso\n",
    "\n",
    "rfecv = RFECV(estimator=Lasso(max_iter=3000), step=1, cv=10, scoring='neg_mean_squared_error')\n",
    "rfecv.fit(X_train, Y_train)\n",
    "\n",
    "features = X_train.columns[rfecv.support_]\n",
    "print(\"selected {:d} features: \".format(len(features)))\n",
    "print(features)"
   ]
  },
  {
   "cell_type": "code",
   "execution_count": 45,
   "metadata": {
    "_cell_guid": "d709a637-e085-42e1-916a-bb7c5ec5bbcb",
    "_uuid": "1a50e0de7acf939d8f7d0341e047183b7ed060e7",
    "collapsed": true
   },
   "outputs": [],
   "source": [
    "X_train = X_train[features]\n",
    "X_test = X_test[features] "
   ]
  },
  {
   "cell_type": "markdown",
   "metadata": {
    "_cell_guid": "c05b6398-6e1e-49cf-8943-648defea4f04",
    "_uuid": "1788a55f64aa1f341aeedd039f18d0e4bd7fd9e3"
   },
   "source": [
    "# Function of parameter search for single model "
   ]
  },
  {
   "cell_type": "code",
   "execution_count": 46,
   "metadata": {
    "_cell_guid": "742b10fd-7bff-4f9f-979c-c69bbc5d0269",
    "_uuid": "98c1ac0879f5ab52e1031b2ea4955512ab2a219f",
    "collapsed": true
   },
   "outputs": [],
   "source": [
    "'''\n",
    "Input: \n",
    "params: parameter set to search on\n",
    "model: the model to search on\n",
    "metric: evaluation metric\n",
    "X_data: input features\n",
    "Y_data: real output\n",
    "n_fold: number of folds in Cross Validation\n",
    "\n",
    "Return:\n",
    "best_params: dictionary of best parameters\n",
    "best_score: best performance\n",
    "'''\n",
    "from sklearn.model_selection import GridSearchCV\n",
    "\n",
    "def Search_para( model, params, metric, X_data, Y_data=None, n_fold=5):\n",
    "    if(Y_data is not None): #supervised learning\n",
    "        searcher = GridSearchCV(model, params, cv=n_fold, scoring = metric, verbose=1)\n",
    "        searcher.fit(X_data, Y_data)\n",
    "        best_params = searcher.best_params_\n",
    "        best_score = sqrt(-searcher.best_score_)\n",
    "\n",
    "    return (best_params, best_score)"
   ]
  },
  {
   "cell_type": "markdown",
   "metadata": {
    "_cell_guid": "701a61d6-dfce-4e0a-9870-144049c83585",
    "_uuid": "d99dd1658e5d185989dd6da88a05e8cc27463293"
   },
   "source": [
    "# Function to search parameter for each model and find the best model  "
   ]
  },
  {
   "cell_type": "code",
   "execution_count": 47,
   "metadata": {
    "_cell_guid": "97651463-3ff6-4ee8-9138-3d3bd31672f5",
    "_uuid": "a3fbebcd9535ec6a47624bb363b2796d17deeb98",
    "collapsed": true
   },
   "outputs": [],
   "source": [
    "'''\n",
    "Input:\n",
    "model_list: list contataining name of models\n",
    "model_collection: tuples of candidate models\n",
    "params_collection: tuples of dictionaries of parameters\n",
    "metric: evaluation metric\n",
    "X_data: input features\n",
    "Y_data: real output\n",
    "cv_model: whether the model has already imp\n",
    "Return:\n",
    "res_dic: Dictionary that stores the best params  and performance as value, model name as key\n",
    "'''\n",
    "\n",
    "def Search_Compare(model_list, model_collection, params_collection, metric, X_data, Y_data=None):\n",
    "    \n",
    "    #store the scores for model comparison\n",
    "    scores_list = []\n",
    "    best_params_list = []\n",
    "    for model_name, model, params in zip(model_list, model_collection, params_collection):\n",
    "        res_tup = \\\n",
    "        Search_para(model, params, metric = metric, X_data=X_data, Y_data = Y_data)\n",
    "        best_params_list.append(res_tup[0])\n",
    "        scores_list.append(res_tup[1])\n",
    "    \n",
    "        print(\"model: \" + model_name)\n",
    "        print(\"Best parameter: {}\\n Score: {:5f}\".format(res_tup[0], res_tup[1]))\n",
    "        \n",
    "    d = {'model': model_list, 'scores': scores_list, 'param': best_params_list}\n",
    "    \n",
    "    res_df = pd.DataFrame(data = d)\n",
    "    print(res_df.sort_values(by=['scores'], ascending=True))\n",
    "    \n",
    "    "
   ]
  },
  {
   "cell_type": "markdown",
   "metadata": {
    "_cell_guid": "64fe32f4-849b-4d07-bdf8-44fdaefd38e2",
    "_uuid": "4332a222686351c24b001073a7e3ed6b3a30596b"
   },
   "source": [
    "# Set model names list,  model collection, parameter set collection"
   ]
  },
  {
   "cell_type": "code",
   "execution_count": 48,
   "metadata": {
    "_cell_guid": "34e85672-8e79-4e39-8158-ae1c727581d5",
    "_uuid": "8c90c36a8c5e13c7eee53314a94ef49ccbf03c7b",
    "collapsed": true
   },
   "outputs": [],
   "source": [
    "from sklearn import linear_model\n",
    "from sklearn import ensemble\n",
    "model_names = [ 'Ridge Regression', 'LASSO Regression', 'Bagging', 'Random Forest','GradientBoosting']\n",
    "\n",
    "\n",
    "models = [linear_model.Ridge(), linear_model.Lasso(), \n",
    "          ensemble.BaggingRegressor(), ensemble.RandomForestRegressor(),ensemble.GradientBoostingRegressor()]\n",
    "\n",
    "\n",
    "parameters = [{'alpha':[0.05, 0.1, 0.3, 1, 3, 5, 10, 15, 30, 50]},{'alpha' : [0.05, 0.1, 0.3, 1, 3, 5, 10, 15, 30, 50]},\n",
    "              {'n_estimators':[300, 400, 500, 600, 700]},{'n_estimators':[500, 600, 700],'max_features':[5,6,8,10,15,20,25]},\n",
    "              {'learning_rate':[1e-2, 1e-1],'min_samples_leaf':[60, 80],'n_estimators':[5000, 7000],\n",
    "               'max_depth':list(range(3,5,1))}]"
   ]
  },
  {
   "cell_type": "code",
   "execution_count": 49,
   "metadata": {
    "_cell_guid": "6b1406cd-1298-4468-938a-70e879654147",
    "_uuid": "6fb311296e35a6ddddbb226f91156763b4831d9a"
   },
   "outputs": [],
   "source": [
    "Search_Compare(model_list=model_names, model_collection=models, params_collection=parameters, \n",
    "              metric='neg_mean_squared_error',X_data=X_train, Y_data=Y_train)"
   ]
  },
  {
   "cell_type": "markdown",
   "metadata": {
    "_uuid": "77a573b020015f0f9ca728353b721f0bfd544326"
   },
   "source": [
    "# Predict and Output Result"
   ]
  },
  {
   "cell_type": "code",
   "execution_count": 50,
   "metadata": {
    "_uuid": "8dfabd886dea9c78fc83b1a84c4c109c0c2a36a8"
   },
   "outputs": [],
   "source": [
    "final_regressor=ensemble.GradientBoostingRegressor(learning_rate= 0.01, max_depth= 3, min_samples_leaf= 60, n_estimators= 5000)\n",
    "final_regressor.fit(X_train,Y_train)\n",
    "preds=np.expm1(final_regressor.predict(X_test))\n",
    "solution = pd.DataFrame({\"id\":test_id, \"SalePrice\":preds})\n",
    "solution.to_csv(\"boost_sol.csv\", index = False)"
   ]
  }
 ],
 "metadata": {
  "kernelspec": {
   "display_name": "Python 3",
   "language": "python",
   "name": "python3"
  },
  "language_info": {
   "codemirror_mode": {
    "name": "ipython",
    "version": 3
   },
   "file_extension": ".py",
   "mimetype": "text/x-python",
   "name": "python",
   "nbconvert_exporter": "python",
   "pygments_lexer": "ipython3",
   "version": "3.5.4"
  }
 },
 "nbformat": 4,
 "nbformat_minor": 1
}
