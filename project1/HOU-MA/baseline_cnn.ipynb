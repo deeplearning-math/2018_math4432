{
 "cells": [
  {
   "cell_type": "code",
   "execution_count": 2,
   "metadata": {},
   "outputs": [
    {
     "name": "stderr",
     "output_type": "stream",
     "text": [
      "Using TensorFlow backend.\n"
     ]
    }
   ],
   "source": [
    "from keras.datasets import mnist\n",
    "from keras.utils.np_utils import to_categorical\n",
    "import matplotlib.pyplot as plt\n",
    "import numpy as np\n",
    "import os\n",
    "%matplotlib inline\n",
    "np.set_printoptions(threshold=np.nan)\n",
    "np.random.seed(117)\n",
    "modelSaveDir = 'model/'\n",
    "if not os.path.exists(modelSaveDir):\n",
    "    os.mkdir(modelSaveDir)"
   ]
  },
  {
   "cell_type": "code",
   "execution_count": 3,
   "metadata": {},
   "outputs": [
    {
     "data": {
      "text/plain": [
       "((60000, 28, 28, 1), (60000, 10), (10000, 28, 28, 1), (10000, 10))"
      ]
     },
     "execution_count": 3,
     "metadata": {},
     "output_type": "execute_result"
    }
   ],
   "source": [
    "(X_train, y_train), (X_test, y_test) = mnist.load_data()\n",
    "# label = np.unique(y_test)\n",
    "img_sz = X_train[0].shape\n",
    "X_train = X_train.reshape((X_train.shape[0], img_sz[0], img_sz[1], 1))\n",
    "X_test = X_test.reshape((X_test.shape[0], img_sz[0], img_sz[1], 1))\n",
    "X_train = X_train.astype('float32')/255.\n",
    "X_test = X_test.astype('float32')/255.\n",
    "y_train = to_categorical(y_train)\n",
    "y_test = to_categorical(y_test)\n",
    "X_train.shape, y_train.shape, X_test.shape, y_test.shape"
   ]
  },
  {
   "cell_type": "code",
   "execution_count": 4,
   "metadata": {},
   "outputs": [],
   "source": [
    "from keras.layers import Dense, Conv2D, MaxPooling2D, Dropout, Input, Flatten\n",
    "from keras.models import Model, model_from_json\n",
    "\n",
    "savedModelExist = os.path.exists(modelSaveDir + 'baseline_cnn_model.json') and os.path.exists(modelSaveDir + 'baseline_cnn_model.h5') and False\n",
    "\n",
    "if not savedModelExist:\n",
    "    ipt = Input((img_sz[0], img_sz[1], 1))\n",
    "    x = ipt\n",
    "    x = Conv2D(filters=512, kernel_size=(9, 9), activation='relu')(x)\n",
    "    x = MaxPooling2D(pool_size=(2, 2), strides=(2, 2))(x)\n",
    "    x = Conv2D(filters=256, kernel_size=(5, 5), activation='relu')(x)\n",
    "    x = MaxPooling2D(pool_size=(2, 2), strides=(2, 2))(x)\n",
    "    x = Dense(units=1024, activation='relu')(x)\n",
    "    x = Flatten()(x)\n",
    "    x = Dense(units=10, activation='softmax')(x)\n",
    "    model = Model(inputs=ipt, outputs=x)\n",
    "    model.compile(loss='categorical_crossentropy', optimizer='adam', metrics=['accuracy'])\n",
    "    model_json = model.to_json()\n",
    "    with open(modelSaveDir + \"baseline_cnn_model.json\", \"w\") as json_file:\n",
    "        json_file.write(model_json)\n",
    "    model.save_weights(modelSaveDir + \"baseline_cnn_model.h5\")\n",
    "else:\n",
    "    json_file = open(modelSaveDir + 'baseline_cnn_model.json', 'r')\n",
    "    loaded_model_json = json_file.read()\n",
    "    json_file.close()\n",
    "    model = model_from_json(loaded_model_json)\n",
    "    model.load_weights(modelSaveDir + 'baseline_cnn_model.h5')\n",
    "    model.compile(loss='categorical_crossentropy', optimizer='adam', metrics=['accuracy'])"
   ]
  },
  {
   "cell_type": "code",
   "execution_count": 5,
   "metadata": {},
   "outputs": [
    {
     "name": "stdout",
     "output_type": "stream",
     "text": [
      "Train on 60000 samples, validate on 10000 samples\n",
      "Epoch 1/15\n",
      "60000/60000 [==============================] - 35s 589us/step - loss: 0.1815 - acc: 0.9427 - val_loss: 0.0528 - val_acc: 0.9824\n",
      "Epoch 2/15\n",
      "60000/60000 [==============================] - 33s 553us/step - loss: 0.0421 - acc: 0.9867 - val_loss: 0.0330 - val_acc: 0.9888\n",
      "Epoch 3/15\n",
      "60000/60000 [==============================] - 33s 554us/step - loss: 0.0289 - acc: 0.9909 - val_loss: 0.0289 - val_acc: 0.9908\n",
      "Epoch 4/15\n",
      "60000/60000 [==============================] - 33s 553us/step - loss: 0.0226 - acc: 0.9928 - val_loss: 0.0337 - val_acc: 0.9888\n",
      "Epoch 5/15\n",
      "60000/60000 [==============================] - 33s 553us/step - loss: 0.0173 - acc: 0.9946 - val_loss: 0.0240 - val_acc: 0.9915\n",
      "Epoch 6/15\n",
      "60000/60000 [==============================] - 33s 552us/step - loss: 0.0151 - acc: 0.9953 - val_loss: 0.0269 - val_acc: 0.9926\n",
      "Epoch 7/15\n",
      "60000/60000 [==============================] - 33s 550us/step - loss: 0.0098 - acc: 0.9971 - val_loss: 0.0311 - val_acc: 0.9914\n",
      "Epoch 8/15\n",
      "60000/60000 [==============================] - 33s 549us/step - loss: 0.0081 - acc: 0.9976 - val_loss: 0.0261 - val_acc: 0.9927\n",
      "Epoch 9/15\n",
      "60000/60000 [==============================] - 33s 548us/step - loss: 0.0097 - acc: 0.9971 - val_loss: 0.0328 - val_acc: 0.9912\n",
      "Epoch 10/15\n",
      "60000/60000 [==============================] - 33s 548us/step - loss: 0.0092 - acc: 0.9968 - val_loss: 0.0377 - val_acc: 0.9900\n",
      "Epoch 11/15\n",
      "60000/60000 [==============================] - 33s 546us/step - loss: 0.0091 - acc: 0.9971 - val_loss: 0.0470 - val_acc: 0.9890\n",
      "Epoch 12/15\n",
      "60000/60000 [==============================] - 33s 545us/step - loss: 0.0077 - acc: 0.9977 - val_loss: 0.0393 - val_acc: 0.9913\n",
      "Epoch 13/15\n",
      "60000/60000 [==============================] - 33s 545us/step - loss: 0.0087 - acc: 0.9970 - val_loss: 0.0311 - val_acc: 0.9917\n",
      "Epoch 14/15\n",
      "60000/60000 [==============================] - 33s 543us/step - loss: 0.0055 - acc: 0.9982 - val_loss: 0.0352 - val_acc: 0.9914\n",
      "Epoch 15/15\n",
      "60000/60000 [==============================] - 33s 542us/step - loss: 0.0050 - acc: 0.9986 - val_loss: 0.0419 - val_acc: 0.9913\n"
     ]
    },
    {
     "data": {
      "image/png": "[encoded data removed]",
      "text/plain": [
       "<matplotlib.figure.Figure at 0x7f5b32fd1cf8>"
      ]
     },
     "metadata": {},
     "output_type": "display_data"
    },
    {
     "data": {
      "image/png": "[encoded data removed]",
      "text/plain": [
       "<matplotlib.figure.Figure at 0x7f5b32bf4f28>"
      ]
     },
     "metadata": {},
     "output_type": "display_data"
    }
   ],
   "source": [
    "def plot_history(network_history):\n",
    "    plt.figure()\n",
    "    plt.xlabel('Epochs')\n",
    "    plt.ylabel('Loss')\n",
    "    plt.plot(network_history['loss'])\n",
    "    plt.plot(network_history['val_loss'])\n",
    "    plt.legend(['Training', 'Validation'])\n",
    "\n",
    "    plt.figure()\n",
    "    plt.xlabel('Epochs')\n",
    "    plt.ylabel('Accuracy')\n",
    "    plt.plot(network_history['acc'])\n",
    "    plt.plot(network_history['val_acc'])\n",
    "    plt.legend(['Training', 'Validation'], loc='lower right')\n",
    "    plt.show()\n",
    "import pickle\n",
    "if not savedModelExist:\n",
    "    network_history = model.fit(X_train, y_train, epochs=15, batch_size=256, validation_data=(X_test, y_test))\n",
    "    network_history = network_history.history\n",
    "    with open(modelSaveDir + 'baseline_cnn_network_history.pkl', 'wb') as f:\n",
    "        pickle.dump(network_history, f, pickle.HIGHEST_PROTOCOL)\n",
    "else:\n",
    "    with open(modelSaveDir + 'baseline_cnn_network_history.pkl', 'rb') as f:\n",
    "        network_history = pickle.load(f)\n",
    "plot_history(network_history)"
   ]
  },
  {
   "cell_type": "code",
   "execution_count": 9,
   "metadata": {},
   "outputs": [
    {
     "name": "stdout",
     "output_type": "stream",
     "text": [
      "precision: 0.991247019038 \n",
      "recall: 0.991163365613 \n",
      "fscore: 0.99119201615\n"
     ]
    }
   ],
   "source": [
    "from sklearn.metrics import confusion_matrix\n",
    "from sklearn.metrics import precision_recall_fscore_support\n",
    "y_pred = model.predict(X_test)\n",
    "y_pred = np.argmax(y_pred, axis=1)\n",
    "y_test = np.argmax(y_test, axis=1)\n",
    "cnn_prfs = precision_recall_fscore_support(y_test, y_pred, average='macro')\n",
    "print('precision:', cnn_prfs[0], '\\nrecall:', cnn_prfs[1], '\\nfscore:', cnn_prfs[2])"
   ]
  },
  {
   "cell_type": "code",
   "execution_count": null,
   "metadata": {},
   "outputs": [],
   "source": []
  },
  {
   "cell_type": "code",
   "execution_count": null,
   "metadata": {},
   "outputs": [],
   "source": []
  }
 ],
 "metadata": {
  "kernelspec": {
   "display_name": "Python 3",
   "language": "python",
   "name": "python3"
  },
  "language_info": {
   "codemirror_mode": {
    "name": "ipython",
    "version": 3
   },
   "file_extension": ".py",
   "mimetype": "text/x-python",
   "name": "python",
   "nbconvert_exporter": "python",
   "pygments_lexer": "ipython3",
   "version": "3.5.2"
  }
 },
 "nbformat": 4,
 "nbformat_minor": 2
}
