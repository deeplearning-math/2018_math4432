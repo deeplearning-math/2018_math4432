{
 "cells": [
  {
   "cell_type": "code",
   "execution_count": 11,
   "metadata": {},
   "outputs": [
    {
     "name": "stderr",
     "output_type": "stream",
     "text": [
      "/home/elessar/anaconda3/envs/tensorflow/lib/python3.5/site-packages/h5py/__init__.py:36: FutureWarning: Conversion of the second argument of issubdtype from `float` to `np.floating` is deprecated. In future, it will be treated as `np.float64 == np.dtype(float).type`.\n",
      "  from ._conv import register_converters as _register_converters\n",
      "Using TensorFlow backend.\n"
     ]
    }
   ],
   "source": [
    "from keras.datasets import mnist\n",
    "import matplotlib.pyplot as plt\n",
    "import numpy as np\n",
    "import pandas as pd\n",
    "from sklearn.metrics import confusion_matrix\n",
    "from sklearn.metrics import precision_recall_fscore_support\n",
    "%matplotlib inline\n",
    "np.set_printoptions(threshold=np.nan)\n",
    "np.random.seed(117)"
   ]
  },
  {
   "cell_type": "code",
   "execution_count": 12,
   "metadata": {},
   "outputs": [
    {
     "data": {
      "text/plain": [
       "((60000, 784), (60000,), (10000, 784), (10000,))"
      ]
     },
     "execution_count": 12,
     "metadata": {},
     "output_type": "execute_result"
    }
   ],
   "source": [
    "(X_train, y_train), (X_test, y_test) = mnist.load_data()\n",
    "label = np.unique(y_test)\n",
    "img_sz = X_train[0].shape\n",
    "X_train = X_train.reshape((X_train.shape[0], img_sz[0] * img_sz[1]))\n",
    "X_test = X_test.reshape((X_test.shape[0], img_sz[0] * img_sz[1]))\n",
    "X_train = X_train/255.\n",
    "X_test = X_test/255.\n",
    "X_train.shape, y_train.shape, X_test.shape, y_test.shape"
   ]
  },
  {
   "cell_type": "code",
   "execution_count": 13,
   "metadata": {},
   "outputs": [
    {
     "data": {
      "image/png": "[encoded data removed]",
      "text/plain": [
       "<matplotlib.figure.Figure at 0x7f5663f7fc18>"
      ]
     },
     "metadata": {},
     "output_type": "display_data"
    }
   ],
   "source": [
    "plt.gray()\n",
    "plt.imshow(X_train[0].reshape((img_sz[0], img_sz[1])))\n",
    "plt.show()"
   ]
  },
  {
   "cell_type": "code",
   "execution_count": 14,
   "metadata": {
    "collapsed": true
   },
   "outputs": [],
   "source": [
    "from sklearn.discriminant_analysis import LinearDiscriminantAnalysis as LDA\n",
    "from sklearn.discriminant_analysis import QuadraticDiscriminantAnalysis as QDA\n",
    "from sklearn.linear_model import LogisticRegression\n",
    "\n",
    "def classify(X_train, X_test, y_train, y_test, classifier):\n",
    "    if classifier == \"lda\":\n",
    "        clf = LDA()\n",
    "    elif classifier == \"qda\":\n",
    "        clf = QDA()\n",
    "    elif classifier == \"logreg\":\n",
    "        clf = LogisticRegression(multi_class='multinomial', solver='newton-cg')\n",
    "    clf.fit(X_train, y_train)\n",
    "    pred = clf.predict(X_test)\n",
    "    print(pred[:10])\n",
    "    cfmtx = confusion_matrix(y_test, pred)\n",
    "    df = pd.DataFrame(cfmtx, columns=label, index=label)\n",
    "    df.columns.name = 'pred\\\\true'\n",
    "    print(df)\n",
    "    prfs = precision_recall_fscore_support(y_test, pred, average='macro')\n",
    "    print('precision:', prfs[0], '\\nrecall:', prfs[1], '\\nfscore:', prfs[2])"
   ]
  },
  {
   "cell_type": "code",
   "execution_count": 15,
   "metadata": {},
   "outputs": [
    {
     "name": "stderr",
     "output_type": "stream",
     "text": [
      "/home/elessar/anaconda3/envs/tensorflow/lib/python3.5/site-packages/sklearn/discriminant_analysis.py:442: UserWarning: The priors do not sum to 1. Renormalizing\n",
      "  UserWarning)\n",
      "/home/elessar/anaconda3/envs/tensorflow/lib/python3.5/site-packages/sklearn/discriminant_analysis.py:388: UserWarning: Variables are collinear.\n",
      "  warnings.warn(\"Variables are collinear.\")\n"
     ]
    },
    {
     "name": "stdout",
     "output_type": "stream",
     "text": [
      "[7 2 1 0 4 1 4 9 5 9]\n",
      "pred\\true    0     1    2    3    4    5    6    7    8    9\n",
      "0          940     0    1    4    2   13    9    1    9    1\n",
      "1            0  1096    4    3    2    2    3    0   25    0\n",
      "2           15    32  816   34   21    5   37    9   57    6\n",
      "3            5     5   25  883    4   25    3   16   29   15\n",
      "4            0    12    6    0  888    4    7    2   10   53\n",
      "5            8     8    4   44   12  735   15   10   38   18\n",
      "6           12     8   11    0   25   29  857    0   16    0\n",
      "7            2    30   15    9   22    2    0  864    4   80\n",
      "8            7    27    8   27   20   53   10    6  790   26\n",
      "9            9     7    1   13   63    6    0   37   12  861\n",
      "precision: 0.873539341852337 \n",
      "recall: 0.8717492923023655 \n",
      "fscore: 0.8716902765509023\n"
     ]
    }
   ],
   "source": [
    "# LDA\n",
    "classify(X_train, X_test, y_train, y_test, 'lda')"
   ]
  },
  {
   "cell_type": "code",
   "execution_count": 18,
   "metadata": {},
   "outputs": [
    {
     "name": "stderr",
     "output_type": "stream",
     "text": [
      "/home/elessar/anaconda3/envs/tensorflow/lib/python3.5/site-packages/sklearn/discriminant_analysis.py:682: UserWarning: Variables are collinear\n",
      "  warnings.warn(\"Variables are collinear\")\n"
     ]
    },
    {
     "name": "stdout",
     "output_type": "stream",
     "text": [
      "[9 2 1 0 8 1 8 9 0 9]\n",
      "pred\\true    0     1    2    3   4   5    6    7    8    9\n",
      "0          947     1    0    7   0   1    8    1   14    1\n",
      "1            9  1080    3    2   0   0   17    0   23    1\n",
      "2          435    11  174  103   4   0  172    5  116   12\n",
      "3          413    15    1  287   0   1   48    3  178   64\n",
      "4          228     8    7   10  88   1   65   11  166  398\n",
      "5          272     5    2   19   0  61  101    2  374   56\n",
      "6           25     3    2    1   0   3  919    0    4    1\n",
      "7           11     8    3   15   0   0    2  302   30  657\n",
      "8          115    55    3   11   0   6   34    3  651   96\n",
      "9           19     8    2    6   1   0    0    8    7  958\n",
      "precision: 0.6992647595750137 \n",
      "recall: 0.5399527368897903 \n",
      "fscore: 0.4775517262812077\n"
     ]
    }
   ],
   "source": [
    "# QDA\n",
    "classify(X_train, X_test, y_train, y_test, 'qda')"
   ]
  },
  {
   "cell_type": "code",
   "execution_count": 19,
   "metadata": {},
   "outputs": [
    {
     "name": "stdout",
     "output_type": "stream",
     "text": [
      "[7 2 1 0 4 1 4 9 6 9]\n",
      "pred\\true    0     1    2    3    4    5    6    7    8    9\n",
      "0          955     0    2    4    1   10    4    3    1    0\n",
      "1            0  1110    5    2    0    2    3    2   11    0\n",
      "2            6     9  930   14   10    3   12   10   34    4\n",
      "3            4     1   16  925    1   23    2   10   19    9\n",
      "4            1     3    7    3  921    0    6    5    6   30\n",
      "5            9     2    3   35   10  777   15    6   31    4\n",
      "6            8     3    8    2    6   16  912    2    1    0\n",
      "7            1     7   23    7    6    1    0  947    4   32\n",
      "8            9    11    6   22    7   29   13   10  855   12\n",
      "9            9     8    1    9   21    7    0   21    9  924\n",
      "precision: 0.9246418911040273 \n",
      "recall: 0.9245196955223417 \n",
      "fscore: 0.9245145146579435\n"
     ]
    }
   ],
   "source": [
    "# logistic regression\n",
    "classify(X_train, X_test, y_train, y_test, 'logreg')"
   ]
  },
  {
   "cell_type": "code",
   "execution_count": 20,
   "metadata": {},
   "outputs": [
    {
     "name": "stdout",
     "output_type": "stream",
     "text": [
      "['0.20', '0.25', '0.30', '0.35', '0.40', '0.45', '0.50', '0.55', '0.60', '0.65', '0.70', '0.75', '0.80', '0.85', '0.90']\n"
     ]
    }
   ],
   "source": [
    "# the variance to determine the components in pca \n",
    "var_ladder =[]\n",
    "for i in range(15):\n",
    "    var_ladder.append(0.2+i*0.05)\n",
    "var_ladder_output = ['%.2f' % elem for elem in var_ladder]\n",
    "print(var_ladder_output)"
   ]
  },
  {
   "cell_type": "code",
   "execution_count": 21,
   "metadata": {
    "collapsed": true
   },
   "outputs": [],
   "source": [
    "from sklearn.decomposition import PCA\n",
    "def pca_data(X_train,X_test,var_explained):\n",
    "    pca=PCA(svd_solver='randomized',whiten=True)\n",
    "    pca.fit(X_train)\n",
    "    var=np.cumsum(pca.explained_variance_ratio_)\n",
    "    pca=PCA(np.argwhere(var>var_explained)[0][0],svd_solver='randomized',whiten=True)\n",
    "    pca.fit(X_train)\n",
    "    X_pca_train=pca.transform(X_train)\n",
    "    X_pca_test=pca.transform(X_test)\n",
    "    return X_pca_train, X_pca_test\n",
    "\n",
    "X_train_list = []\n",
    "X_test_list = []\n",
    "for var in var_ladder:\n",
    "    X_train_current, X_test_current = pca_data(X_train,X_test,var)\n",
    "    X_train_list.append(X_train_current)\n",
    "    X_test_list.append(X_test_current)"
   ]
  },
  {
   "cell_type": "code",
   "execution_count": 22,
   "metadata": {
    "collapsed": true
   },
   "outputs": [],
   "source": [
    "# store the intermediate result since the cell above is toooooooooooo slow!\n",
    "import pickle\n",
    "with open(\"pca_training.pkl\",\"wb\") as handle:\n",
    "    pickle.dump(X_train_list,handle)\n",
    "with open(\"pca_testing.pkl\",\"wb\") as handle:\n",
    "    pickle.dump(X_test_list,handle)"
   ]
  },
  {
   "cell_type": "code",
   "execution_count": 23,
   "metadata": {
    "collapsed": true
   },
   "outputs": [],
   "source": [
    "# helper function for calculating accuracy\n",
    "from sklearn.metrics import accuracy_score\n",
    "def score(X_train, X_test, y_train, y_test, classifier):\n",
    "    if classifier == \"lda\":\n",
    "        clf = LDA()\n",
    "    elif classifier == \"qda\":\n",
    "        clf = QDA()\n",
    "    elif classifier == \"logreg\":\n",
    "        clf = LogisticRegression(multi_class='multinomial', solver='newton-cg')\n",
    "    clf.fit(X_train, y_train)\n",
    "    pred = clf.predict(X_test)\n",
    "    return accuracy_score(y_test,pred)"
   ]
  },
  {
   "cell_type": "code",
   "execution_count": 24,
   "metadata": {
    "collapsed": true
   },
   "outputs": [],
   "source": [
    "def printlist(list):\n",
    "    for i in list:\n",
    "        print(i,end=\" \")\n",
    "    print()"
   ]
  },
  {
   "cell_type": "code",
   "execution_count": 25,
   "metadata": {},
   "outputs": [
    {
     "name": "stderr",
     "output_type": "stream",
     "text": [
      "/home/elessar/anaconda3/envs/tensorflow/lib/python3.5/site-packages/sklearn/discriminant_analysis.py:442: UserWarning: The priors do not sum to 1. Renormalizing\n",
      "  UserWarning)\n"
     ]
    },
    {
     "name": "stdout",
     "output_type": "stream",
     "text": [
      "0.4429 0.466 0.5629 0.6649 0.7098 0.7606 0.7749 0.7988 0.819 0.8455 0.8543 0.864 0.8715 0.8756 0.875 \n"
     ]
    }
   ],
   "source": [
    "# LDA: accuracy ~ total-variance-explained\n",
    "lda_accuracies = []\n",
    "for i in range(15):\n",
    "    acc = score(X_train_list[i],X_test_list[i],y_train,y_test,'lda')\n",
    "    lda_accuracies.append(acc)\n",
    "printlist(lda_accuracies)"
   ]
  },
  {
   "cell_type": "code",
   "execution_count": 26,
   "metadata": {},
   "outputs": [
    {
     "name": "stdout",
     "output_type": "stream",
     "text": [
      "0.4607 0.5026 0.631 0.732 0.8005 0.8654 0.892 0.9241 0.9374 0.9501 0.957 0.9633 0.9622 0.9614 0.9591 \n"
     ]
    }
   ],
   "source": [
    "# QDA: accuracy ~ total-variance-explained\n",
    "qda_accuracies = []\n",
    "for i in range(15):\n",
    "    acc = score(X_train_list[i],X_test_list[i],y_train,y_test,'qda')\n",
    "    qda_accuracies.append(acc)\n",
    "printlist(qda_accuracies)"
   ]
  },
  {
   "cell_type": "code",
   "execution_count": 27,
   "metadata": {},
   "outputs": [
    {
     "name": "stdout",
     "output_type": "stream",
     "text": [
      "0.446 0.476 0.5777 0.6873 0.7375 0.7902 0.8094 0.8394 0.8567 0.8806 0.8916 0.902 0.9105 0.9174 0.9207 \n"
     ]
    }
   ],
   "source": [
    "# Logistic Regression: accuracy ~ total-variance-explained\n",
    "logreg_accuracies=[]\n",
    "for i in range(15):\n",
    "    acc = score(X_train_list[i],X_test_list[i],y_train,y_test,'logreg')\n",
    "    logreg_accuracies.append(acc)\n",
    "printlist(logreg_accuracies)"
   ]
  },
  {
   "cell_type": "code",
   "execution_count": 28,
   "metadata": {},
   "outputs": [
    {
     "data": {
      "image/png": "[encoded data removed]",
      "text/plain": [
       "<matplotlib.figure.Figure at 0x7f5661bc92b0>"
      ]
     },
     "metadata": {},
     "output_type": "display_data"
    }
   ],
   "source": [
    "ax=plt.subplot(111)\n",
    "plt.plot(var_ladder,lda_accuracies,label=\"lda\")\n",
    "plt.plot(var_ladder,qda_accuracies,label=\"qda\")\n",
    "plt.plot(var_ladder,logreg_accuracies,label=\"logreg\")\n",
    "leg = plt.legend(loc=4, ncol=1, shadow=False, fancybox=False)\n",
    "leg.get_frame().set_alpha(0.5)\n",
    "plt.title(\"classification accuracy on PCA dimensionality reduced data\")\n",
    "plt.xlabel('total variance explained')\n",
    "plt.ylabel('accuracy')\n",
    "plt.show()"
   ]
  },
  {
   "cell_type": "code",
   "execution_count": 29,
   "metadata": {},
   "outputs": [
    {
     "name": "stdout",
     "output_type": "stream",
     "text": [
      "best number of dimension: 33\n"
     ]
    }
   ],
   "source": [
    "pca=PCA(svd_solver='randomized',whiten=True)\n",
    "pca.fit(X_train)\n",
    "var=np.cumsum(pca.explained_variance_ratio_)\n",
    "print(\"best number of dimension: \" + str(np.argwhere(var>0.75)[0][0]))"
   ]
  },
  {
   "cell_type": "code",
   "execution_count": 30,
   "metadata": {
    "collapsed": true
   },
   "outputs": [],
   "source": [
    "# Dimension reduction using PCA, code ref: https://www.kaggle.com/ddmngml/pca-and-svm-on-mnist-dataset\n",
    "\n",
    "n_components = 33\n",
    "pca = PCA(n_components=n_components, svd_solver='randomized',whiten=True).fit(X_train)\n",
    "X_train_pca = pca.transform(X_train)\n",
    "X_test_pca = pca.transform(X_test)"
   ]
  },
  {
   "cell_type": "code",
   "execution_count": 31,
   "metadata": {},
   "outputs": [
    {
     "data": {
      "text/plain": [
       "0.7496131790605177"
      ]
     },
     "execution_count": 31,
     "metadata": {},
     "output_type": "execute_result"
    },
    {
     "data": {
      "image/png": "[encoded data removed]",
      "text/plain": [
       "<matplotlib.figure.Figure at 0x7f5661bc66d8>"
      ]
     },
     "metadata": {},
     "output_type": "display_data"
    }
   ],
   "source": [
    "plt.hist(pca.explained_variance_ratio_, bins=n_components, log=True)\n",
    "pca.explained_variance_ratio_.sum()"
   ]
  },
  {
   "cell_type": "code",
   "execution_count": 32,
   "metadata": {},
   "outputs": [
    {
     "name": "stderr",
     "output_type": "stream",
     "text": [
      "/home/elessar/anaconda3/envs/tensorflow/lib/python3.5/site-packages/sklearn/discriminant_analysis.py:442: UserWarning: The priors do not sum to 1. Renormalizing\n",
      "  UserWarning)\n"
     ]
    },
    {
     "name": "stdout",
     "output_type": "stream",
     "text": [
      "[7 2 1 0 4 1 4 9 4 9]\n",
      "pred\\true    0     1    2    3    4    5    6    7    8    9\n",
      "0          913     0    2    5    0   36   20    2    2    0\n",
      "1            0  1095    4    1    1    1    3    1   29    0\n",
      "2           12    45  814   29   19    6   20   25   51   11\n",
      "3            4     9   31  852    1   50    4   25   20   14\n",
      "4            1    12    2    0  845    3   10    1    9   99\n",
      "5            9    11    8   47   14  731   19   10   32   11\n",
      "6           13    10    3    1   18   40  867    1    4    1\n",
      "7            3    45   21    3   16    2    1  876    6   55\n",
      "8            6    35    7   35   13   53   12    9  780   24\n",
      "9            8    13    5    8   64   22    2   21    8  858\n",
      "precision: 0.8639747126873495 \n",
      "recall: 0.8617028683066159 \n",
      "fscore: 0.861855380372357\n"
     ]
    }
   ],
   "source": [
    "# PCA-LDA\n",
    "classify(X_train_pca, X_test_pca, y_train, y_test, 'lda')"
   ]
  },
  {
   "cell_type": "code",
   "execution_count": 33,
   "metadata": {},
   "outputs": [
    {
     "name": "stdout",
     "output_type": "stream",
     "text": [
      "[7 2 1 0 4 1 4 9 5 9]\n",
      "pred\\true    0     1     2    3    4    5    6    7    8    9\n",
      "0          966     0     1    0    0    7    2    1    3    0\n",
      "1            0  1103     9    4    1    2    1    0   15    0\n",
      "2            3     0  1009    2    2    0    3    2   11    0\n",
      "3            1     0     8  972    0    8    0    5   12    4\n",
      "4            2     0     3    0  964    0    3    1    2    7\n",
      "5            3     0     0   19    0  862    1    0    6    1\n",
      "6            6     1     0    0    2   13  929    0    7    0\n",
      "7            0     5    29    5    2    5    0  955    7   20\n",
      "8            5     0    10   13    1    5    2    3  928    7\n",
      "9            5     3     8    6   13    3    0    7   19  945\n",
      "precision: 0.9633633467430158 \n",
      "recall: 0.9633707507400455 \n",
      "fscore: 0.9631790308218374\n"
     ]
    }
   ],
   "source": [
    "# PCA-QDA\n",
    "classify(X_train_pca, X_test_pca, y_train, y_test, 'qda')"
   ]
  },
  {
   "cell_type": "code",
   "execution_count": 34,
   "metadata": {},
   "outputs": [
    {
     "name": "stdout",
     "output_type": "stream",
     "text": [
      "[7 2 1 0 4 1 4 9 6 9]\n",
      "pred\\true    0     1    2    3    4    5    6    7    8    9\n",
      "0          948     0    5    3    0   14    9    1    0    0\n",
      "1            0  1107    4    2    0    2    3    1   16    0\n",
      "2           11     9  895   17   14    5   17   17   41    6\n",
      "3            3     0   24  908    1   30    2   14   20    8\n",
      "4            2     2    5    1  894    2   12    4   10   50\n",
      "5           11     3    9   51   14  739   18    8   30    9\n",
      "6           18     3    6    1   14   17  892    4    3    0\n",
      "7            4    10   31    6   12    2    0  933    2   28\n",
      "8           12     7    9   34   11   41   13   11  820   16\n",
      "9            9     9    5    9   41   15    1   26   15  879\n",
      "precision: 0.8997890406594944 \n",
      "recall: 0.8999540301378752 \n",
      "fscore: 0.8997505861578314\n"
     ]
    }
   ],
   "source": [
    "# PCA-logistic regression\n",
    "classify(X_train_pca, X_test_pca, y_train, y_test, 'logreg')"
   ]
  },
  {
   "cell_type": "markdown",
   "metadata": {},
   "source": [
    "<style>\n",
    ".text_cell_render h{\n",
    "font-family: Times New Roman, serif;\n",
    "font-size: 18;\n",
    "}\n",
    "</style>\n",
    "# Discriminant Analysis: the assumption of gaussian distribution"
   ]
  },
  {
   "cell_type": "code",
   "execution_count": 35,
   "metadata": {
    "collapsed": true
   },
   "outputs": [],
   "source": [
    "from scipy.stats import normaltest as norm_test\n",
    "from collections import Counter\n",
    "\n",
    "# a voing procedure to eliminate non-gaussian elements\n",
    "def retain_gaussian(X_train,X_test,y_train,voters=5):\n",
    "    norm_pvalue_mtx=np.zeros((10,X_train[0].shape[0]))\n",
    "    for i in range(10):\n",
    "        _, norm_pvalue_mtx[i] = norm_test(X_train[y_train==i],axis=0)\n",
    "    alpha=1e-3\n",
    "    non_norm_predictors=np.argwhere(norm_pvalue_mtx>alpha)[:,1]\n",
    "    non_norm_predictors=np.array([x for x,y in Counter(non_norm_predictors).items() if y > voters])\n",
    "    print(\"voting for non-gaussian predictors\")\n",
    "    print(\"%i predictors voted out\"%non_norm_predictors.shape[0])\n",
    "    mask=np.ones(X_train[0].shape[0],dtype=bool)\n",
    "    mask[non_norm_predictors]=False\n",
    "    return X_train[:,mask], X_test[:,mask]"
   ]
  },
  {
   "cell_type": "code",
   "execution_count": 36,
   "metadata": {},
   "outputs": [
    {
     "name": "stdout",
     "output_type": "stream",
     "text": [
      "voting for non-gaussian predictors\n",
      "1 predictors voted out\n"
     ]
    }
   ],
   "source": [
    "X_train_gau, X_test_gau = retain_gaussian(X_train_pca,X_test_pca,y_train)"
   ]
  },
  {
   "cell_type": "markdown",
   "metadata": {},
   "source": [
    "**only one predictor voted out illustrates that nearly all predictors follow the\n",
    "gaussian distribution**"
   ]
  },
  {
   "cell_type": "markdown",
   "metadata": {},
   "source": [
    "<style>\n",
    ".text_cell_render h{\n",
    "font-family: Times New Roman, serif;\n",
    "font: 18;\n",
    "}\n",
    "</style>\n",
    "# QDA vs LDA: the assumption of equal covariance"
   ]
  },
  {
   "cell_type": "code",
   "execution_count": 37,
   "metadata": {
    "collapsed": true
   },
   "outputs": [],
   "source": [
    "# the covariance matrix of each class from QDA\n",
    "sigma_model=QDA(store_covariance=True)\n",
    "sigma_model.fit(X_train_pca,y_train)\n",
    "fitted_cov = sigma_model.covariance_"
   ]
  },
  {
   "cell_type": "code",
   "execution_count": 38,
   "metadata": {
    "collapsed": true
   },
   "outputs": [],
   "source": [
    "# the covariance matrix calculated from raw input\n",
    "real_cov=[]\n",
    "for i in range(10):\n",
    "    current=X_train_pca[y_train==i]\n",
    "    real_cov.append(np.cov(current,rowvar=False))"
   ]
  },
  {
   "cell_type": "code",
   "execution_count": 39,
   "metadata": {
    "collapsed": true
   },
   "outputs": [],
   "source": [
    "fitted_cov = np.array(fitted_cov)\n",
    "real_cov = np.array(real_cov)\n",
    "fitted_cov=np.reshape(fitted_cov,(fitted_cov.shape[0],fitted_cov.shape[1]*fitted_cov.shape[2]))\n",
    "real_cov=np.reshape(real_cov,(real_cov.shape[0],real_cov.shape[1]*real_cov.shape[2]))"
   ]
  },
  {
   "cell_type": "code",
   "execution_count": 40,
   "metadata": {
    "collapsed": true
   },
   "outputs": [],
   "source": [
    "# the display below is better is precision is 2\n",
    "np.set_printoptions(precision=2, suppress=True)"
   ]
  },
  {
   "cell_type": "code",
   "execution_count": 41,
   "metadata": {},
   "outputs": [
    {
     "name": "stdout",
     "output_type": "stream",
     "text": [
      "[[1.   0.11 0.44 0.45 0.32 0.45 0.49 0.27 0.42 0.31]\n",
      " [0.11 1.   0.2  0.18 0.29 0.15 0.2  0.22 0.3  0.2 ]\n",
      " [0.44 0.2  1.   0.59 0.48 0.4  0.41 0.42 0.54 0.41]\n",
      " [0.45 0.18 0.59 1.   0.42 0.61 0.4  0.36 0.57 0.4 ]\n",
      " [0.32 0.29 0.48 0.42 1.   0.38 0.4  0.57 0.52 0.71]\n",
      " [0.45 0.15 0.4  0.61 0.38 1.   0.43 0.32 0.55 0.41]\n",
      " [0.49 0.2  0.41 0.4  0.4  0.43 1.   0.23 0.44 0.3 ]\n",
      " [0.27 0.22 0.42 0.36 0.57 0.32 0.23 1.   0.38 0.63]\n",
      " [0.42 0.3  0.54 0.57 0.52 0.55 0.44 0.38 1.   0.47]\n",
      " [0.31 0.2  0.41 0.4  0.71 0.41 0.3  0.63 0.47 1.  ]]\n"
     ]
    }
   ],
   "source": [
    "# The cosine similarity meansures the direction difference between matrixes\n",
    "from sklearn.metrics.pairwise import cosine_similarity\n",
    "print(cosine_similarity(fitted_cov,real_cov))"
   ]
  },
  {
   "cell_type": "code",
   "execution_count": 42,
   "metadata": {},
   "outputs": [
    {
     "name": "stdout",
     "output_type": "stream",
     "text": [
      "[[ 0.  10.8  9.3  8.8  9.6  9.3  8.9  9.9  9.   9.5]\n",
      " [10.8  0.   9.8  9.3  8.3 10.1  9.8  8.8  8.5  8.7]\n",
      " [ 9.3  9.8  0.   7.2  8.   9.3  9.1  8.4  7.6  8.3]\n",
      " [ 8.8  9.3  7.2  0.   7.9  7.1  8.7  8.3  6.9  7.8]\n",
      " [ 9.6  8.3  8.   7.9  0.   8.8  8.5  6.6  7.1  5.2]\n",
      " [ 9.3 10.1  9.3  7.1  8.8  0.   9.   9.2  7.6  8.4]\n",
      " [ 8.9  9.8  9.1  8.7  8.5  9.   0.   9.6  8.4  9. ]\n",
      " [ 9.9  8.8  8.4  8.3  6.6  9.2  9.6  0.   8.1  5.9]\n",
      " [ 9.   8.5  7.6  6.9  7.1  7.6  8.4  8.1  0.   7.3]\n",
      " [ 9.5  8.7  8.3  7.8  5.2  8.4  9.   5.9  7.3  0. ]]\n"
     ]
    }
   ],
   "source": [
    "# euclidean differences measures absolute difference between matrixes\n",
    "from sklearn.metrics.pairwise import pairwise_distances\n",
    "np.set_printoptions(precision=1,suppress=True)\n",
    "print(pairwise_distances(fitted_cov,real_cov))"
   ]
  },
  {
   "cell_type": "markdown",
   "metadata": {},
   "source": [
    "**the above proves two following thing:**\n",
    "    \n",
    "1. the real_covariance matrix is exactly the same with the fitted_covariance matrix\n",
    "   (the diagonal value is 1)\n",
    "2. the covariance matrix between each class differs a lot.\n",
    "\n",
    "**Thus, QDA is better than LDA theoretically**"
   ]
  }
 ],
 "metadata": {
  "kernelspec": {
   "display_name": "Python 3",
   "language": "python",
   "name": "python3"
  },
  "language_info": {
   "codemirror_mode": {
    "name": "ipython",
    "version": 3
   },
   "file_extension": ".py",
   "mimetype": "text/x-python",
   "name": "python",
   "nbconvert_exporter": "python",
   "pygments_lexer": "ipython3",
   "version": "3.6.4"
  }
 },
 "nbformat": 4,
 "nbformat_minor": 2
}
