{
 "cells": [
  {
   "cell_type": "code",
   "execution_count": 1,
   "metadata": {},
   "outputs": [
    {
     "name": "stderr",
     "output_type": "stream",
     "text": [
      "Using TensorFlow backend.\n"
     ]
    }
   ],
   "source": [
    "from keras.utils.np_utils import to_categorical\n",
    "import matplotlib.pyplot as plt\n",
    "import numpy as np\n",
    "import os\n",
    "%matplotlib inline\n",
    "np.set_printoptions(threshold=np.nan)\n",
    "np.random.seed(117)\n",
    "modelSaveDir = 'model/'\n",
    "if not os.path.exists(modelSaveDir):\n",
    "    os.mkdir(modelSaveDir)"
   ]
  },
  {
   "cell_type": "code",
   "execution_count": 2,
   "metadata": {},
   "outputs": [],
   "source": [
    "from load_affnist import loadmat\n",
    "Xtrain = []\n",
    "ytrain = []\n",
    "for i in range(1,33):\n",
    "    mat = loadmat('data/training_and_validation_batches/' + str(i) + '.mat')\n",
    "    Xtrain.append(mat['affNISTdata']['image'].T)\n",
    "    ytrain.append(mat['affNISTdata']['label_int'])\n",
    "X_train = np.vstack(Xtrain)\n",
    "y_train = np.vstack(ytrain)\n",
    "y_train = y_train.reshape((y_train.shape[0] * y_train.shape[1],))\n",
    "testDICT = loadmat('data/test.mat')\n",
    "X_test = testDICT['affNISTdata']['image'].T\n",
    "y_test = testDICT['affNISTdata']['label_int']"
   ]
  },
  {
   "cell_type": "code",
   "execution_count": 3,
   "metadata": {},
   "outputs": [
    {
     "data": {
      "text/plain": [
       "((1920000, 40, 40, 1), (1920000, 10), (320000, 40, 40, 1), (320000, 10))"
      ]
     },
     "execution_count": 3,
     "metadata": {},
     "output_type": "execute_result"
    }
   ],
   "source": [
    "# label = np.unique(y_test)\n",
    "X_train = X_train.reshape((X_train.shape[0], 40, 40, 1))\n",
    "X_test = X_test.reshape((X_test.shape[0], 40, 40, 1))\n",
    "X_train = X_train.astype('float32')/255.\n",
    "X_test = X_test.astype('float32')/255.\n",
    "y_train = to_categorical(y_train)\n",
    "y_test = to_categorical(y_test)\n",
    "X_train.shape, y_train.shape, X_test.shape, y_test.shape"
   ]
  },
  {
   "cell_type": "code",
   "execution_count": 4,
   "metadata": {},
   "outputs": [],
   "source": [
    "from keras.layers import Dense, Conv2D, MaxPooling2D, Dropout, Input, Flatten\n",
    "from keras.models import Model, model_from_json\n",
    "\n",
    "savedModelExist = os.path.exists(modelSaveDir + 'baseline_cnn_model.json') and os.path.exists(modelSaveDir + 'baseline_cnn_model.h5') and False\n",
    "\n",
    "if not savedModelExist:\n",
    "    ipt = Input((40, 40, 1))\n",
    "    x = ipt\n",
    "    x = Conv2D(filters=512, kernel_size=(9, 9), activation='relu')(x)\n",
    "    x = MaxPooling2D(pool_size=(2, 2), strides=(2, 2))(x)\n",
    "    x = Conv2D(filters=256, kernel_size=(5, 5), activation='relu')(x)\n",
    "    x = MaxPooling2D(pool_size=(2, 2), strides=(2, 2))(x)\n",
    "    x = Dense(units=1024, activation='relu')(x)\n",
    "    x = Flatten()(x)\n",
    "    x = Dense(units=10, activation='softmax')(x)\n",
    "    model = Model(inputs=ipt, outputs=x)\n",
    "    model.compile(loss='categorical_crossentropy', optimizer='adam', metrics=['accuracy'])\n",
    "    model_json = model.to_json()\n",
    "    with open(modelSaveDir + \"baseline_cnn_model.json\", \"w\") as json_file:\n",
    "        json_file.write(model_json)\n",
    "    model.save_weights(modelSaveDir + \"baseline_cnn_model.h5\")\n",
    "else:\n",
    "    json_file = open(modelSaveDir + 'baseline_cnn_model.json', 'r')\n",
    "    loaded_model_json = json_file.read()\n",
    "    json_file.close()\n",
    "    model = model_from_json(loaded_model_json)\n",
    "    model.load_weights(modelSaveDir + 'baseline_cnn_model.h5')\n",
    "    model.compile(loss='categorical_crossentropy', optimizer='adam', metrics=['accuracy'])"
   ]
  },
  {
   "cell_type": "code",
   "execution_count": null,
   "metadata": {},
   "outputs": [
    {
     "name": "stdout",
     "output_type": "stream",
     "text": [
      "Train on 1920000 samples, validate on 320000 samples\n",
      "Epoch 1/5\n",
      "1920000/1920000 [==============================] - 2025s 1ms/step - loss: 0.0663 - acc: 0.9797 - val_loss: 0.0379 - val_acc: 0.9885\n",
      "Epoch 2/5\n",
      "1920000/1920000 [==============================] - 1996s 1ms/step - loss: 0.0225 - acc: 0.9933 - val_loss: 0.0306 - val_acc: 0.9912\n",
      "Epoch 3/5\n",
      "1920000/1920000 [==============================] - 1989s 1ms/step - loss: 0.0167 - acc: 0.9951 - val_loss: 0.0366 - val_acc: 0.9912\n",
      "Epoch 4/5\n",
      "1920000/1920000 [==============================] - 1986s 1ms/step - loss: 0.0142 - acc: 0.9959 - val_loss: 0.0423 - val_acc: 0.9911\n",
      "Epoch 5/5\n",
      "1920000/1920000 [==============================] - 1977s 1ms/step - loss: 0.0133 - acc: 0.9963 - val_loss: 0.0411 - val_acc: 0.9916\n"
     ]
    },
    {
     "data": {
      "image/png": "[encoded data removed]",
      "text/plain": [
       "<matplotlib.figure.Figure at 0x7f6b35a37630>"
      ]
     },
     "metadata": {},
     "output_type": "display_data"
    },
    {
     "data": {
      "image/png": "[encoded data removed]",
      "text/plain": [
       "<matplotlib.figure.Figure at 0x7f6b2e9a9048>"
      ]
     },
     "metadata": {},
     "output_type": "display_data"
    }
   ],
   "source": [
    "def plot_history(network_history):\n",
    "    plt.figure()\n",
    "    plt.xlabel('Epochs')\n",
    "    plt.ylabel('Loss')\n",
    "    plt.plot(network_history['loss'])\n",
    "    plt.plot(network_history['val_loss'])\n",
    "    plt.legend(['Training', 'Validation'])\n",
    "\n",
    "    plt.figure()\n",
    "    plt.xlabel('Epochs')\n",
    "    plt.ylabel('Accuracy')\n",
    "    plt.plot(network_history['acc'])\n",
    "    plt.plot(network_history['val_acc'])\n",
    "    plt.legend(['Training', 'Validation'], loc='lower right')\n",
    "    plt.show()\n",
    "import pickle\n",
    "if not savedModelExist:\n",
    "    network_history = model.fit(X_train, y_train, epochs=5, batch_size=256, validation_data=(X_test, y_test))\n",
    "    network_history = network_history.history\n",
    "    with open(modelSaveDir + 'baseline_cnn_network_history.pkl', 'wb') as f:\n",
    "        pickle.dump(network_history, f, pickle.HIGHEST_PROTOCOL)\n",
    "else:\n",
    "    with open(modelSaveDir + 'baseline_cnn_network_history.pkl', 'rb') as f:\n",
    "        network_history = pickle.load(f)\n",
    "plot_history(network_history)"
   ]
  },
  {
   "cell_type": "code",
   "execution_count": null,
   "metadata": {},
   "outputs": [],
   "source": [
    "from sklearn.metrics import confusion_matrix\n",
    "from sklearn.metrics import precision_recall_fscore_support\n",
    "y_pred = model.predict(X_test)\n",
    "y_pred = np.argmax(y_pred, axis=1)\n",
    "y_test = np.argmax(y_test, axis=1)\n",
    "cnn_prfs = precision_recall_fscore_support(y_test, y_pred, average='macro')\n",
    "print('precision:', cnn_prfs[0], '\\nrecall:', cnn_prfs[1], '\\nfscore:', cnn_prfs[2])"
   ]
  },
  {
   "cell_type": "code",
   "execution_count": null,
   "metadata": {},
   "outputs": [],
   "source": []
  },
  {
   "cell_type": "code",
   "execution_count": null,
   "metadata": {},
   "outputs": [],
   "source": []
  }
 ],
 "metadata": {
  "kernelspec": {
   "display_name": "Python 3",
   "language": "python",
   "name": "python3"
  },
  "language_info": {
   "codemirror_mode": {
    "name": "ipython",
    "version": 3
   },
   "file_extension": ".py",
   "mimetype": "text/x-python",
   "name": "python",
   "nbconvert_exporter": "python",
   "pygments_lexer": "ipython3",
   "version": "3.5.2"
  }
 },
 "nbformat": 4,
 "nbformat_minor": 2
}
